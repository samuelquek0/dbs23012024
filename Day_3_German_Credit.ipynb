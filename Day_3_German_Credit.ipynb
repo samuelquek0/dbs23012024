{
  "nbformat": 4,
  "nbformat_minor": 0,
  "metadata": {
    "colab": {
      "provenance": [],
      "include_colab_link": true
    },
    "kernelspec": {
      "name": "python3",
      "display_name": "Python 3"
    },
    "language_info": {
      "name": "python"
    }
  },
  "cells": [
    {
      "cell_type": "markdown",
      "metadata": {
        "id": "view-in-github",
        "colab_type": "text"
      },
      "source": [
        "<a href=\"https://colab.research.google.com/github/samuelquek0/dbs23012024/blob/main/Day_3_German_Credit.ipynb\" target=\"_parent\"><img src=\"https://colab.research.google.com/assets/colab-badge.svg\" alt=\"Open In Colab\"/></a>"
      ]
    },
    {
      "cell_type": "code",
      "execution_count": 27,
      "metadata": {
        "id": "HNOTz5rYLe2u"
      },
      "outputs": [],
      "source": [
        "import pandas as pd"
      ]
    },
    {
      "cell_type": "code",
      "source": [
        "df = pd.read_csv(\"/content/drive/MyDrive/Loan Default II (Employed).csv\")"
      ],
      "metadata": {
        "id": "rEhTnHUSMGXo"
      },
      "execution_count": 79,
      "outputs": []
    },
    {
      "cell_type": "code",
      "source": [
        "df.isnull().any()"
      ],
      "metadata": {
        "colab": {
          "base_uri": "https://localhost:8080/"
        },
        "id": "GHtoFOJIMLly",
        "outputId": "6dafd322-6757-4094-82b0-9d6eed960336"
      },
      "execution_count": 80,
      "outputs": [
        {
          "output_type": "execute_result",
          "data": {
            "text/plain": [
              "Index            False\n",
              "Employed         False\n",
              "Bank Balance     False\n",
              "Annual Salary    False\n",
              "Defaulted?       False\n",
              "dtype: bool"
            ]
          },
          "metadata": {},
          "execution_count": 80
        }
      ]
    },
    {
      "cell_type": "code",
      "source": [
        "df.head()"
      ],
      "metadata": {
        "id": "9pPK1YRagSz5",
        "outputId": "de2dbeec-645f-465c-980e-65585c76652e",
        "colab": {
          "base_uri": "https://localhost:8080/",
          "height": 206
        }
      },
      "execution_count": 82,
      "outputs": [
        {
          "output_type": "execute_result",
          "data": {
            "text/plain": [
              "   Index  Employed  Bank Balance  Annual Salary  Defaulted?\n",
              "0      1         1       8754.36      532339.56           0\n",
              "1      2         0       9806.16      145273.56           0\n",
              "2      3         1      12882.60      381205.68           0\n",
              "3      4         1       6351.00      428453.88           0\n",
              "4      5         1       9427.92      461562.00           0"
            ],
            "text/html": [
              "\n",
              "  <div id=\"df-2bc3c5b8-978d-41b0-8b82-9d32f81861ae\" class=\"colab-df-container\">\n",
              "    <div>\n",
              "<style scoped>\n",
              "    .dataframe tbody tr th:only-of-type {\n",
              "        vertical-align: middle;\n",
              "    }\n",
              "\n",
              "    .dataframe tbody tr th {\n",
              "        vertical-align: top;\n",
              "    }\n",
              "\n",
              "    .dataframe thead th {\n",
              "        text-align: right;\n",
              "    }\n",
              "</style>\n",
              "<table border=\"1\" class=\"dataframe\">\n",
              "  <thead>\n",
              "    <tr style=\"text-align: right;\">\n",
              "      <th></th>\n",
              "      <th>Index</th>\n",
              "      <th>Employed</th>\n",
              "      <th>Bank Balance</th>\n",
              "      <th>Annual Salary</th>\n",
              "      <th>Defaulted?</th>\n",
              "    </tr>\n",
              "  </thead>\n",
              "  <tbody>\n",
              "    <tr>\n",
              "      <th>0</th>\n",
              "      <td>1</td>\n",
              "      <td>1</td>\n",
              "      <td>8754.36</td>\n",
              "      <td>532339.56</td>\n",
              "      <td>0</td>\n",
              "    </tr>\n",
              "    <tr>\n",
              "      <th>1</th>\n",
              "      <td>2</td>\n",
              "      <td>0</td>\n",
              "      <td>9806.16</td>\n",
              "      <td>145273.56</td>\n",
              "      <td>0</td>\n",
              "    </tr>\n",
              "    <tr>\n",
              "      <th>2</th>\n",
              "      <td>3</td>\n",
              "      <td>1</td>\n",
              "      <td>12882.60</td>\n",
              "      <td>381205.68</td>\n",
              "      <td>0</td>\n",
              "    </tr>\n",
              "    <tr>\n",
              "      <th>3</th>\n",
              "      <td>4</td>\n",
              "      <td>1</td>\n",
              "      <td>6351.00</td>\n",
              "      <td>428453.88</td>\n",
              "      <td>0</td>\n",
              "    </tr>\n",
              "    <tr>\n",
              "      <th>4</th>\n",
              "      <td>5</td>\n",
              "      <td>1</td>\n",
              "      <td>9427.92</td>\n",
              "      <td>461562.00</td>\n",
              "      <td>0</td>\n",
              "    </tr>\n",
              "  </tbody>\n",
              "</table>\n",
              "</div>\n",
              "    <div class=\"colab-df-buttons\">\n",
              "\n",
              "  <div class=\"colab-df-container\">\n",
              "    <button class=\"colab-df-convert\" onclick=\"convertToInteractive('df-2bc3c5b8-978d-41b0-8b82-9d32f81861ae')\"\n",
              "            title=\"Convert this dataframe to an interactive table.\"\n",
              "            style=\"display:none;\">\n",
              "\n",
              "  <svg xmlns=\"http://www.w3.org/2000/svg\" height=\"24px\" viewBox=\"0 -960 960 960\">\n",
              "    <path d=\"M120-120v-720h720v720H120Zm60-500h600v-160H180v160Zm220 220h160v-160H400v160Zm0 220h160v-160H400v160ZM180-400h160v-160H180v160Zm440 0h160v-160H620v160ZM180-180h160v-160H180v160Zm440 0h160v-160H620v160Z\"/>\n",
              "  </svg>\n",
              "    </button>\n",
              "\n",
              "  <style>\n",
              "    .colab-df-container {\n",
              "      display:flex;\n",
              "      gap: 12px;\n",
              "    }\n",
              "\n",
              "    .colab-df-convert {\n",
              "      background-color: #E8F0FE;\n",
              "      border: none;\n",
              "      border-radius: 50%;\n",
              "      cursor: pointer;\n",
              "      display: none;\n",
              "      fill: #1967D2;\n",
              "      height: 32px;\n",
              "      padding: 0 0 0 0;\n",
              "      width: 32px;\n",
              "    }\n",
              "\n",
              "    .colab-df-convert:hover {\n",
              "      background-color: #E2EBFA;\n",
              "      box-shadow: 0px 1px 2px rgba(60, 64, 67, 0.3), 0px 1px 3px 1px rgba(60, 64, 67, 0.15);\n",
              "      fill: #174EA6;\n",
              "    }\n",
              "\n",
              "    .colab-df-buttons div {\n",
              "      margin-bottom: 4px;\n",
              "    }\n",
              "\n",
              "    [theme=dark] .colab-df-convert {\n",
              "      background-color: #3B4455;\n",
              "      fill: #D2E3FC;\n",
              "    }\n",
              "\n",
              "    [theme=dark] .colab-df-convert:hover {\n",
              "      background-color: #434B5C;\n",
              "      box-shadow: 0px 1px 3px 1px rgba(0, 0, 0, 0.15);\n",
              "      filter: drop-shadow(0px 1px 2px rgba(0, 0, 0, 0.3));\n",
              "      fill: #FFFFFF;\n",
              "    }\n",
              "  </style>\n",
              "\n",
              "    <script>\n",
              "      const buttonEl =\n",
              "        document.querySelector('#df-2bc3c5b8-978d-41b0-8b82-9d32f81861ae button.colab-df-convert');\n",
              "      buttonEl.style.display =\n",
              "        google.colab.kernel.accessAllowed ? 'block' : 'none';\n",
              "\n",
              "      async function convertToInteractive(key) {\n",
              "        const element = document.querySelector('#df-2bc3c5b8-978d-41b0-8b82-9d32f81861ae');\n",
              "        const dataTable =\n",
              "          await google.colab.kernel.invokeFunction('convertToInteractive',\n",
              "                                                    [key], {});\n",
              "        if (!dataTable) return;\n",
              "\n",
              "        const docLinkHtml = 'Like what you see? Visit the ' +\n",
              "          '<a target=\"_blank\" href=https://colab.research.google.com/notebooks/data_table.ipynb>data table notebook</a>'\n",
              "          + ' to learn more about interactive tables.';\n",
              "        element.innerHTML = '';\n",
              "        dataTable['output_type'] = 'display_data';\n",
              "        await google.colab.output.renderOutput(dataTable, element);\n",
              "        const docLink = document.createElement('div');\n",
              "        docLink.innerHTML = docLinkHtml;\n",
              "        element.appendChild(docLink);\n",
              "      }\n",
              "    </script>\n",
              "  </div>\n",
              "\n",
              "\n",
              "<div id=\"df-b80707c8-4a09-428e-b6a3-65ddfe65ab98\">\n",
              "  <button class=\"colab-df-quickchart\" onclick=\"quickchart('df-b80707c8-4a09-428e-b6a3-65ddfe65ab98')\"\n",
              "            title=\"Suggest charts\"\n",
              "            style=\"display:none;\">\n",
              "\n",
              "<svg xmlns=\"http://www.w3.org/2000/svg\" height=\"24px\"viewBox=\"0 0 24 24\"\n",
              "     width=\"24px\">\n",
              "    <g>\n",
              "        <path d=\"M19 3H5c-1.1 0-2 .9-2 2v14c0 1.1.9 2 2 2h14c1.1 0 2-.9 2-2V5c0-1.1-.9-2-2-2zM9 17H7v-7h2v7zm4 0h-2V7h2v10zm4 0h-2v-4h2v4z\"/>\n",
              "    </g>\n",
              "</svg>\n",
              "  </button>\n",
              "\n",
              "<style>\n",
              "  .colab-df-quickchart {\n",
              "      --bg-color: #E8F0FE;\n",
              "      --fill-color: #1967D2;\n",
              "      --hover-bg-color: #E2EBFA;\n",
              "      --hover-fill-color: #174EA6;\n",
              "      --disabled-fill-color: #AAA;\n",
              "      --disabled-bg-color: #DDD;\n",
              "  }\n",
              "\n",
              "  [theme=dark] .colab-df-quickchart {\n",
              "      --bg-color: #3B4455;\n",
              "      --fill-color: #D2E3FC;\n",
              "      --hover-bg-color: #434B5C;\n",
              "      --hover-fill-color: #FFFFFF;\n",
              "      --disabled-bg-color: #3B4455;\n",
              "      --disabled-fill-color: #666;\n",
              "  }\n",
              "\n",
              "  .colab-df-quickchart {\n",
              "    background-color: var(--bg-color);\n",
              "    border: none;\n",
              "    border-radius: 50%;\n",
              "    cursor: pointer;\n",
              "    display: none;\n",
              "    fill: var(--fill-color);\n",
              "    height: 32px;\n",
              "    padding: 0;\n",
              "    width: 32px;\n",
              "  }\n",
              "\n",
              "  .colab-df-quickchart:hover {\n",
              "    background-color: var(--hover-bg-color);\n",
              "    box-shadow: 0 1px 2px rgba(60, 64, 67, 0.3), 0 1px 3px 1px rgba(60, 64, 67, 0.15);\n",
              "    fill: var(--button-hover-fill-color);\n",
              "  }\n",
              "\n",
              "  .colab-df-quickchart-complete:disabled,\n",
              "  .colab-df-quickchart-complete:disabled:hover {\n",
              "    background-color: var(--disabled-bg-color);\n",
              "    fill: var(--disabled-fill-color);\n",
              "    box-shadow: none;\n",
              "  }\n",
              "\n",
              "  .colab-df-spinner {\n",
              "    border: 2px solid var(--fill-color);\n",
              "    border-color: transparent;\n",
              "    border-bottom-color: var(--fill-color);\n",
              "    animation:\n",
              "      spin 1s steps(1) infinite;\n",
              "  }\n",
              "\n",
              "  @keyframes spin {\n",
              "    0% {\n",
              "      border-color: transparent;\n",
              "      border-bottom-color: var(--fill-color);\n",
              "      border-left-color: var(--fill-color);\n",
              "    }\n",
              "    20% {\n",
              "      border-color: transparent;\n",
              "      border-left-color: var(--fill-color);\n",
              "      border-top-color: var(--fill-color);\n",
              "    }\n",
              "    30% {\n",
              "      border-color: transparent;\n",
              "      border-left-color: var(--fill-color);\n",
              "      border-top-color: var(--fill-color);\n",
              "      border-right-color: var(--fill-color);\n",
              "    }\n",
              "    40% {\n",
              "      border-color: transparent;\n",
              "      border-right-color: var(--fill-color);\n",
              "      border-top-color: var(--fill-color);\n",
              "    }\n",
              "    60% {\n",
              "      border-color: transparent;\n",
              "      border-right-color: var(--fill-color);\n",
              "    }\n",
              "    80% {\n",
              "      border-color: transparent;\n",
              "      border-right-color: var(--fill-color);\n",
              "      border-bottom-color: var(--fill-color);\n",
              "    }\n",
              "    90% {\n",
              "      border-color: transparent;\n",
              "      border-bottom-color: var(--fill-color);\n",
              "    }\n",
              "  }\n",
              "</style>\n",
              "\n",
              "  <script>\n",
              "    async function quickchart(key) {\n",
              "      const quickchartButtonEl =\n",
              "        document.querySelector('#' + key + ' button');\n",
              "      quickchartButtonEl.disabled = true;  // To prevent multiple clicks.\n",
              "      quickchartButtonEl.classList.add('colab-df-spinner');\n",
              "      try {\n",
              "        const charts = await google.colab.kernel.invokeFunction(\n",
              "            'suggestCharts', [key], {});\n",
              "      } catch (error) {\n",
              "        console.error('Error during call to suggestCharts:', error);\n",
              "      }\n",
              "      quickchartButtonEl.classList.remove('colab-df-spinner');\n",
              "      quickchartButtonEl.classList.add('colab-df-quickchart-complete');\n",
              "    }\n",
              "    (() => {\n",
              "      let quickchartButtonEl =\n",
              "        document.querySelector('#df-b80707c8-4a09-428e-b6a3-65ddfe65ab98 button');\n",
              "      quickchartButtonEl.style.display =\n",
              "        google.colab.kernel.accessAllowed ? 'block' : 'none';\n",
              "    })();\n",
              "  </script>\n",
              "</div>\n",
              "\n",
              "    </div>\n",
              "  </div>\n"
            ]
          },
          "metadata": {},
          "execution_count": 82
        }
      ]
    },
    {
      "cell_type": "code",
      "source": [
        "df = pd.get_dummies(df,columns=['Employed'], drop_first=True)"
      ],
      "metadata": {
        "id": "bQ0yVwNFNOSA"
      },
      "execution_count": 83,
      "outputs": []
    },
    {
      "cell_type": "code",
      "source": [
        "df"
      ],
      "metadata": {
        "colab": {
          "base_uri": "https://localhost:8080/",
          "height": 424
        },
        "id": "-eP-RbOYOjDW",
        "outputId": "fe84a623-ec88-4d7b-8c12-d53950072ccf"
      },
      "execution_count": 84,
      "outputs": [
        {
          "output_type": "execute_result",
          "data": {
            "text/plain": [
              "      Index  Bank Balance  Annual Salary  Defaulted?  Employed_1\n",
              "0         1       8754.36      532339.56           0           1\n",
              "1         2       9806.16      145273.56           0           0\n",
              "2         3      12882.60      381205.68           0           1\n",
              "3         4       6351.00      428453.88           0           1\n",
              "4         5       9427.92      461562.00           0           1\n",
              "...     ...           ...            ...         ...         ...\n",
              "9995   9996       8538.72      635908.56           0           1\n",
              "9996   9997       9095.52      235928.64           0           1\n",
              "9997   9998      10144.92      703633.92           0           1\n",
              "9998   9999      18828.12      440029.32           0           1\n",
              "9999  10000       2411.04      202355.40           0           0\n",
              "\n",
              "[10000 rows x 5 columns]"
            ],
            "text/html": [
              "\n",
              "  <div id=\"df-f0958105-7ef1-435c-a85e-6d0cc56062f2\" class=\"colab-df-container\">\n",
              "    <div>\n",
              "<style scoped>\n",
              "    .dataframe tbody tr th:only-of-type {\n",
              "        vertical-align: middle;\n",
              "    }\n",
              "\n",
              "    .dataframe tbody tr th {\n",
              "        vertical-align: top;\n",
              "    }\n",
              "\n",
              "    .dataframe thead th {\n",
              "        text-align: right;\n",
              "    }\n",
              "</style>\n",
              "<table border=\"1\" class=\"dataframe\">\n",
              "  <thead>\n",
              "    <tr style=\"text-align: right;\">\n",
              "      <th></th>\n",
              "      <th>Index</th>\n",
              "      <th>Bank Balance</th>\n",
              "      <th>Annual Salary</th>\n",
              "      <th>Defaulted?</th>\n",
              "      <th>Employed_1</th>\n",
              "    </tr>\n",
              "  </thead>\n",
              "  <tbody>\n",
              "    <tr>\n",
              "      <th>0</th>\n",
              "      <td>1</td>\n",
              "      <td>8754.36</td>\n",
              "      <td>532339.56</td>\n",
              "      <td>0</td>\n",
              "      <td>1</td>\n",
              "    </tr>\n",
              "    <tr>\n",
              "      <th>1</th>\n",
              "      <td>2</td>\n",
              "      <td>9806.16</td>\n",
              "      <td>145273.56</td>\n",
              "      <td>0</td>\n",
              "      <td>0</td>\n",
              "    </tr>\n",
              "    <tr>\n",
              "      <th>2</th>\n",
              "      <td>3</td>\n",
              "      <td>12882.60</td>\n",
              "      <td>381205.68</td>\n",
              "      <td>0</td>\n",
              "      <td>1</td>\n",
              "    </tr>\n",
              "    <tr>\n",
              "      <th>3</th>\n",
              "      <td>4</td>\n",
              "      <td>6351.00</td>\n",
              "      <td>428453.88</td>\n",
              "      <td>0</td>\n",
              "      <td>1</td>\n",
              "    </tr>\n",
              "    <tr>\n",
              "      <th>4</th>\n",
              "      <td>5</td>\n",
              "      <td>9427.92</td>\n",
              "      <td>461562.00</td>\n",
              "      <td>0</td>\n",
              "      <td>1</td>\n",
              "    </tr>\n",
              "    <tr>\n",
              "      <th>...</th>\n",
              "      <td>...</td>\n",
              "      <td>...</td>\n",
              "      <td>...</td>\n",
              "      <td>...</td>\n",
              "      <td>...</td>\n",
              "    </tr>\n",
              "    <tr>\n",
              "      <th>9995</th>\n",
              "      <td>9996</td>\n",
              "      <td>8538.72</td>\n",
              "      <td>635908.56</td>\n",
              "      <td>0</td>\n",
              "      <td>1</td>\n",
              "    </tr>\n",
              "    <tr>\n",
              "      <th>9996</th>\n",
              "      <td>9997</td>\n",
              "      <td>9095.52</td>\n",
              "      <td>235928.64</td>\n",
              "      <td>0</td>\n",
              "      <td>1</td>\n",
              "    </tr>\n",
              "    <tr>\n",
              "      <th>9997</th>\n",
              "      <td>9998</td>\n",
              "      <td>10144.92</td>\n",
              "      <td>703633.92</td>\n",
              "      <td>0</td>\n",
              "      <td>1</td>\n",
              "    </tr>\n",
              "    <tr>\n",
              "      <th>9998</th>\n",
              "      <td>9999</td>\n",
              "      <td>18828.12</td>\n",
              "      <td>440029.32</td>\n",
              "      <td>0</td>\n",
              "      <td>1</td>\n",
              "    </tr>\n",
              "    <tr>\n",
              "      <th>9999</th>\n",
              "      <td>10000</td>\n",
              "      <td>2411.04</td>\n",
              "      <td>202355.40</td>\n",
              "      <td>0</td>\n",
              "      <td>0</td>\n",
              "    </tr>\n",
              "  </tbody>\n",
              "</table>\n",
              "<p>10000 rows × 5 columns</p>\n",
              "</div>\n",
              "    <div class=\"colab-df-buttons\">\n",
              "\n",
              "  <div class=\"colab-df-container\">\n",
              "    <button class=\"colab-df-convert\" onclick=\"convertToInteractive('df-f0958105-7ef1-435c-a85e-6d0cc56062f2')\"\n",
              "            title=\"Convert this dataframe to an interactive table.\"\n",
              "            style=\"display:none;\">\n",
              "\n",
              "  <svg xmlns=\"http://www.w3.org/2000/svg\" height=\"24px\" viewBox=\"0 -960 960 960\">\n",
              "    <path d=\"M120-120v-720h720v720H120Zm60-500h600v-160H180v160Zm220 220h160v-160H400v160Zm0 220h160v-160H400v160ZM180-400h160v-160H180v160Zm440 0h160v-160H620v160ZM180-180h160v-160H180v160Zm440 0h160v-160H620v160Z\"/>\n",
              "  </svg>\n",
              "    </button>\n",
              "\n",
              "  <style>\n",
              "    .colab-df-container {\n",
              "      display:flex;\n",
              "      gap: 12px;\n",
              "    }\n",
              "\n",
              "    .colab-df-convert {\n",
              "      background-color: #E8F0FE;\n",
              "      border: none;\n",
              "      border-radius: 50%;\n",
              "      cursor: pointer;\n",
              "      display: none;\n",
              "      fill: #1967D2;\n",
              "      height: 32px;\n",
              "      padding: 0 0 0 0;\n",
              "      width: 32px;\n",
              "    }\n",
              "\n",
              "    .colab-df-convert:hover {\n",
              "      background-color: #E2EBFA;\n",
              "      box-shadow: 0px 1px 2px rgba(60, 64, 67, 0.3), 0px 1px 3px 1px rgba(60, 64, 67, 0.15);\n",
              "      fill: #174EA6;\n",
              "    }\n",
              "\n",
              "    .colab-df-buttons div {\n",
              "      margin-bottom: 4px;\n",
              "    }\n",
              "\n",
              "    [theme=dark] .colab-df-convert {\n",
              "      background-color: #3B4455;\n",
              "      fill: #D2E3FC;\n",
              "    }\n",
              "\n",
              "    [theme=dark] .colab-df-convert:hover {\n",
              "      background-color: #434B5C;\n",
              "      box-shadow: 0px 1px 3px 1px rgba(0, 0, 0, 0.15);\n",
              "      filter: drop-shadow(0px 1px 2px rgba(0, 0, 0, 0.3));\n",
              "      fill: #FFFFFF;\n",
              "    }\n",
              "  </style>\n",
              "\n",
              "    <script>\n",
              "      const buttonEl =\n",
              "        document.querySelector('#df-f0958105-7ef1-435c-a85e-6d0cc56062f2 button.colab-df-convert');\n",
              "      buttonEl.style.display =\n",
              "        google.colab.kernel.accessAllowed ? 'block' : 'none';\n",
              "\n",
              "      async function convertToInteractive(key) {\n",
              "        const element = document.querySelector('#df-f0958105-7ef1-435c-a85e-6d0cc56062f2');\n",
              "        const dataTable =\n",
              "          await google.colab.kernel.invokeFunction('convertToInteractive',\n",
              "                                                    [key], {});\n",
              "        if (!dataTable) return;\n",
              "\n",
              "        const docLinkHtml = 'Like what you see? Visit the ' +\n",
              "          '<a target=\"_blank\" href=https://colab.research.google.com/notebooks/data_table.ipynb>data table notebook</a>'\n",
              "          + ' to learn more about interactive tables.';\n",
              "        element.innerHTML = '';\n",
              "        dataTable['output_type'] = 'display_data';\n",
              "        await google.colab.output.renderOutput(dataTable, element);\n",
              "        const docLink = document.createElement('div');\n",
              "        docLink.innerHTML = docLinkHtml;\n",
              "        element.appendChild(docLink);\n",
              "      }\n",
              "    </script>\n",
              "  </div>\n",
              "\n",
              "\n",
              "<div id=\"df-6fa3ee80-c4f8-4fa9-869e-1f17872eb3eb\">\n",
              "  <button class=\"colab-df-quickchart\" onclick=\"quickchart('df-6fa3ee80-c4f8-4fa9-869e-1f17872eb3eb')\"\n",
              "            title=\"Suggest charts\"\n",
              "            style=\"display:none;\">\n",
              "\n",
              "<svg xmlns=\"http://www.w3.org/2000/svg\" height=\"24px\"viewBox=\"0 0 24 24\"\n",
              "     width=\"24px\">\n",
              "    <g>\n",
              "        <path d=\"M19 3H5c-1.1 0-2 .9-2 2v14c0 1.1.9 2 2 2h14c1.1 0 2-.9 2-2V5c0-1.1-.9-2-2-2zM9 17H7v-7h2v7zm4 0h-2V7h2v10zm4 0h-2v-4h2v4z\"/>\n",
              "    </g>\n",
              "</svg>\n",
              "  </button>\n",
              "\n",
              "<style>\n",
              "  .colab-df-quickchart {\n",
              "      --bg-color: #E8F0FE;\n",
              "      --fill-color: #1967D2;\n",
              "      --hover-bg-color: #E2EBFA;\n",
              "      --hover-fill-color: #174EA6;\n",
              "      --disabled-fill-color: #AAA;\n",
              "      --disabled-bg-color: #DDD;\n",
              "  }\n",
              "\n",
              "  [theme=dark] .colab-df-quickchart {\n",
              "      --bg-color: #3B4455;\n",
              "      --fill-color: #D2E3FC;\n",
              "      --hover-bg-color: #434B5C;\n",
              "      --hover-fill-color: #FFFFFF;\n",
              "      --disabled-bg-color: #3B4455;\n",
              "      --disabled-fill-color: #666;\n",
              "  }\n",
              "\n",
              "  .colab-df-quickchart {\n",
              "    background-color: var(--bg-color);\n",
              "    border: none;\n",
              "    border-radius: 50%;\n",
              "    cursor: pointer;\n",
              "    display: none;\n",
              "    fill: var(--fill-color);\n",
              "    height: 32px;\n",
              "    padding: 0;\n",
              "    width: 32px;\n",
              "  }\n",
              "\n",
              "  .colab-df-quickchart:hover {\n",
              "    background-color: var(--hover-bg-color);\n",
              "    box-shadow: 0 1px 2px rgba(60, 64, 67, 0.3), 0 1px 3px 1px rgba(60, 64, 67, 0.15);\n",
              "    fill: var(--button-hover-fill-color);\n",
              "  }\n",
              "\n",
              "  .colab-df-quickchart-complete:disabled,\n",
              "  .colab-df-quickchart-complete:disabled:hover {\n",
              "    background-color: var(--disabled-bg-color);\n",
              "    fill: var(--disabled-fill-color);\n",
              "    box-shadow: none;\n",
              "  }\n",
              "\n",
              "  .colab-df-spinner {\n",
              "    border: 2px solid var(--fill-color);\n",
              "    border-color: transparent;\n",
              "    border-bottom-color: var(--fill-color);\n",
              "    animation:\n",
              "      spin 1s steps(1) infinite;\n",
              "  }\n",
              "\n",
              "  @keyframes spin {\n",
              "    0% {\n",
              "      border-color: transparent;\n",
              "      border-bottom-color: var(--fill-color);\n",
              "      border-left-color: var(--fill-color);\n",
              "    }\n",
              "    20% {\n",
              "      border-color: transparent;\n",
              "      border-left-color: var(--fill-color);\n",
              "      border-top-color: var(--fill-color);\n",
              "    }\n",
              "    30% {\n",
              "      border-color: transparent;\n",
              "      border-left-color: var(--fill-color);\n",
              "      border-top-color: var(--fill-color);\n",
              "      border-right-color: var(--fill-color);\n",
              "    }\n",
              "    40% {\n",
              "      border-color: transparent;\n",
              "      border-right-color: var(--fill-color);\n",
              "      border-top-color: var(--fill-color);\n",
              "    }\n",
              "    60% {\n",
              "      border-color: transparent;\n",
              "      border-right-color: var(--fill-color);\n",
              "    }\n",
              "    80% {\n",
              "      border-color: transparent;\n",
              "      border-right-color: var(--fill-color);\n",
              "      border-bottom-color: var(--fill-color);\n",
              "    }\n",
              "    90% {\n",
              "      border-color: transparent;\n",
              "      border-bottom-color: var(--fill-color);\n",
              "    }\n",
              "  }\n",
              "</style>\n",
              "\n",
              "  <script>\n",
              "    async function quickchart(key) {\n",
              "      const quickchartButtonEl =\n",
              "        document.querySelector('#' + key + ' button');\n",
              "      quickchartButtonEl.disabled = true;  // To prevent multiple clicks.\n",
              "      quickchartButtonEl.classList.add('colab-df-spinner');\n",
              "      try {\n",
              "        const charts = await google.colab.kernel.invokeFunction(\n",
              "            'suggestCharts', [key], {});\n",
              "      } catch (error) {\n",
              "        console.error('Error during call to suggestCharts:', error);\n",
              "      }\n",
              "      quickchartButtonEl.classList.remove('colab-df-spinner');\n",
              "      quickchartButtonEl.classList.add('colab-df-quickchart-complete');\n",
              "    }\n",
              "    (() => {\n",
              "      let quickchartButtonEl =\n",
              "        document.querySelector('#df-6fa3ee80-c4f8-4fa9-869e-1f17872eb3eb button');\n",
              "      quickchartButtonEl.style.display =\n",
              "        google.colab.kernel.accessAllowed ? 'block' : 'none';\n",
              "    })();\n",
              "  </script>\n",
              "</div>\n",
              "\n",
              "  <div id=\"id_ffde024b-f371-4d69-b096-c4bab5a310e4\">\n",
              "    <style>\n",
              "      .colab-df-generate {\n",
              "        background-color: #E8F0FE;\n",
              "        border: none;\n",
              "        border-radius: 50%;\n",
              "        cursor: pointer;\n",
              "        display: none;\n",
              "        fill: #1967D2;\n",
              "        height: 32px;\n",
              "        padding: 0 0 0 0;\n",
              "        width: 32px;\n",
              "      }\n",
              "\n",
              "      .colab-df-generate:hover {\n",
              "        background-color: #E2EBFA;\n",
              "        box-shadow: 0px 1px 2px rgba(60, 64, 67, 0.3), 0px 1px 3px 1px rgba(60, 64, 67, 0.15);\n",
              "        fill: #174EA6;\n",
              "      }\n",
              "\n",
              "      [theme=dark] .colab-df-generate {\n",
              "        background-color: #3B4455;\n",
              "        fill: #D2E3FC;\n",
              "      }\n",
              "\n",
              "      [theme=dark] .colab-df-generate:hover {\n",
              "        background-color: #434B5C;\n",
              "        box-shadow: 0px 1px 3px 1px rgba(0, 0, 0, 0.15);\n",
              "        filter: drop-shadow(0px 1px 2px rgba(0, 0, 0, 0.3));\n",
              "        fill: #FFFFFF;\n",
              "      }\n",
              "    </style>\n",
              "    <button class=\"colab-df-generate\" onclick=\"generateWithVariable('df')\"\n",
              "            title=\"Generate code using this dataframe.\"\n",
              "            style=\"display:none;\">\n",
              "\n",
              "  <svg xmlns=\"http://www.w3.org/2000/svg\" height=\"24px\"viewBox=\"0 0 24 24\"\n",
              "       width=\"24px\">\n",
              "    <path d=\"M7,19H8.4L18.45,9,17,7.55,7,17.6ZM5,21V16.75L18.45,3.32a2,2,0,0,1,2.83,0l1.4,1.43a1.91,1.91,0,0,1,.58,1.4,1.91,1.91,0,0,1-.58,1.4L9.25,21ZM18.45,9,17,7.55Zm-12,3A5.31,5.31,0,0,0,4.9,8.1,5.31,5.31,0,0,0,1,6.5,5.31,5.31,0,0,0,4.9,4.9,5.31,5.31,0,0,0,6.5,1,5.31,5.31,0,0,0,8.1,4.9,5.31,5.31,0,0,0,12,6.5,5.46,5.46,0,0,0,6.5,12Z\"/>\n",
              "  </svg>\n",
              "    </button>\n",
              "    <script>\n",
              "      (() => {\n",
              "      const buttonEl =\n",
              "        document.querySelector('#id_ffde024b-f371-4d69-b096-c4bab5a310e4 button.colab-df-generate');\n",
              "      buttonEl.style.display =\n",
              "        google.colab.kernel.accessAllowed ? 'block' : 'none';\n",
              "\n",
              "      buttonEl.onclick = () => {\n",
              "        google.colab.notebook.generateWithVariable('df');\n",
              "      }\n",
              "      })();\n",
              "    </script>\n",
              "  </div>\n",
              "\n",
              "    </div>\n",
              "  </div>\n"
            ]
          },
          "metadata": {},
          "execution_count": 84
        }
      ]
    },
    {
      "cell_type": "code",
      "source": [
        "df.hist(figsize=(50,50))"
      ],
      "metadata": {
        "colab": {
          "base_uri": "https://localhost:8080/",
          "height": 1000
        },
        "id": "XsfDmlFtOk-S",
        "outputId": "a18ea8ba-3e89-4376-fac6-4447ee7a207f"
      },
      "execution_count": 85,
      "outputs": [
        {
          "output_type": "execute_result",
          "data": {
            "text/plain": [
              "array([[<Axes: title={'center': 'Index'}>,\n",
              "        <Axes: title={'center': 'Bank Balance'}>],\n",
              "       [<Axes: title={'center': 'Annual Salary'}>,\n",
              "        <Axes: title={'center': 'Defaulted?'}>],\n",
              "       [<Axes: title={'center': 'Employed_1'}>, <Axes: >]], dtype=object)"
            ]
          },
          "metadata": {},
          "execution_count": 85
        },
        {
          "output_type": "display_data",
          "data": {
            "text/plain": [
              "<Figure size 5000x5000 with 6 Axes>"
            ],
            "image/png": "[encoded data removed]"
          },
          "metadata": {}
        }
      ]
    },
    {
      "cell_type": "code",
      "source": [
        "import seaborn as sns"
      ],
      "metadata": {
        "id": "GuN9RSWaO4Kt"
      },
      "execution_count": 86,
      "outputs": []
    },
    {
      "cell_type": "code",
      "source": [
        "sns.heatmap(df.corr())"
      ],
      "metadata": {
        "colab": {
          "base_uri": "https://localhost:8080/",
          "height": 535
        },
        "id": "_E9TvY8dPIQK",
        "outputId": "72976876-05ec-4b4c-fa33-bf3b3f105b3c"
      },
      "execution_count": 87,
      "outputs": [
        {
          "output_type": "execute_result",
          "data": {
            "text/plain": [
              "<Axes: >"
            ]
          },
          "metadata": {},
          "execution_count": 87
        },
        {
          "output_type": "display_data",
          "data": {
            "text/plain": [
              "<Figure size 640x480 with 2 Axes>"
            ],
            "image/png": "[encoded data removed]"
          },
          "metadata": {}
        }
      ]
    },
    {
      "cell_type": "code",
      "source": [
        "sns.countplot(df,x=\"Employed_1\")"
      ],
      "metadata": {
        "colab": {
          "base_uri": "https://localhost:8080/",
          "height": 467
        },
        "id": "y8c1FcUCPM4p",
        "outputId": "ccf9f5b3-2510-448a-faa1-62a28816a7dc"
      },
      "execution_count": 88,
      "outputs": [
        {
          "output_type": "execute_result",
          "data": {
            "text/plain": [
              "<Axes: xlabel='Employed_1', ylabel='count'>"
            ]
          },
          "metadata": {},
          "execution_count": 88
        },
        {
          "output_type": "display_data",
          "data": {
            "text/plain": [
              "<Figure size 640x480 with 1 Axes>"
            ],
            "image/png": "[encoded data removed]"
          },
          "metadata": {}
        }
      ]
    },
    {
      "cell_type": "code",
      "source": [
        "sns.catplot(df,x=\"Creditability\",y=\"Credit Amount\",kind=\"violin\")"
      ],
      "metadata": {
        "colab": {
          "base_uri": "https://localhost:8080/",
          "height": 524
        },
        "id": "fqAhJAOrPmup",
        "outputId": "1ffa9899-d369-47bb-ae85-07df752456d4"
      },
      "execution_count": 35,
      "outputs": [
        {
          "output_type": "execute_result",
          "data": {
            "text/plain": [
              "<seaborn.axisgrid.FacetGrid at 0x78e7424bc790>"
            ]
          },
          "metadata": {},
          "execution_count": 35
        },
        {
          "output_type": "display_data",
          "data": {
            "text/plain": [
              "<Figure size 511.111x500 with 1 Axes>"
            ],
            "image/png": "[encoded data removed]"
          },
          "metadata": {}
        }
      ]
    },
    {
      "cell_type": "code",
      "source": [
        "sns.boxplot(data=df[\"Credit Amount\"])"
      ],
      "metadata": {
        "colab": {
          "base_uri": "https://localhost:8080/",
          "height": 428
        },
        "id": "j8not6D1QNte",
        "outputId": "2b581ff5-0998-4bad-ae34-57a70453855a"
      },
      "execution_count": 36,
      "outputs": [
        {
          "output_type": "execute_result",
          "data": {
            "text/plain": [
              "<Axes: ylabel='Credit Amount'>"
            ]
          },
          "metadata": {},
          "execution_count": 36
        },
        {
          "output_type": "display_data",
          "data": {
            "text/plain": [
              "<Figure size 640x480 with 1 Axes>"
            ],
            "image/png": "[encoded data removed]"
          },
          "metadata": {}
        }
      ]
    },
    {
      "cell_type": "code",
      "source": [
        "X = df.drop(columns=\"Creditability\")"
      ],
      "metadata": {
        "id": "PH1iLBB1QjXw"
      },
      "execution_count": 37,
      "outputs": []
    },
    {
      "cell_type": "code",
      "source": [
        "Y = df[\"Creditability\"]"
      ],
      "metadata": {
        "id": "aKpLB29oQ05H"
      },
      "execution_count": 38,
      "outputs": []
    },
    {
      "cell_type": "code",
      "source": [
        "from sklearn.model_selection import train_test_split"
      ],
      "metadata": {
        "id": "1ALJ1MHVQ3YX"
      },
      "execution_count": 39,
      "outputs": []
    },
    {
      "cell_type": "code",
      "source": [
        "X_train,X_test,Y_train,Y_test = train_test_split(X,Y)"
      ],
      "metadata": {
        "id": "H-O3TikZROdl"
      },
      "execution_count": 40,
      "outputs": []
    },
    {
      "cell_type": "code",
      "source": [
        "from scipy import stats"
      ],
      "metadata": {
        "id": "OEtDOO8_ReEC"
      },
      "execution_count": 41,
      "outputs": []
    },
    {
      "cell_type": "code",
      "source": [
        "X_train[\"Credit Amount\"] = stats.zscore(X_train[\"Credit Amount\"])"
      ],
      "metadata": {
        "id": "VuqRXncQRsnT"
      },
      "execution_count": 42,
      "outputs": []
    },
    {
      "cell_type": "code",
      "source": [
        "X_test[\"Credit Amount\"] = stats.zscore(X_test[\"Credit Amount\"])"
      ],
      "metadata": {
        "id": "7_1XXsm5R0tD"
      },
      "execution_count": 43,
      "outputs": []
    },
    {
      "cell_type": "code",
      "source": [
        "from sklearn import linear_model"
      ],
      "metadata": {
        "id": "hXTFR9JjR_yX"
      },
      "execution_count": 44,
      "outputs": []
    },
    {
      "cell_type": "code",
      "source": [
        "model = linear_model.LogisticRegression(max_iter=2000)"
      ],
      "metadata": {
        "id": "MQt-R4ksSaEQ"
      },
      "execution_count": 45,
      "outputs": []
    },
    {
      "cell_type": "code",
      "source": [
        "model.fit(X_train,Y_train)"
      ],
      "metadata": {
        "colab": {
          "base_uri": "https://localhost:8080/",
          "height": 75
        },
        "id": "nNth42VzSeJG",
        "outputId": "1a264ad1-62e5-49d7-ce93-83b978cb4027"
      },
      "execution_count": 46,
      "outputs": [
        {
          "output_type": "execute_result",
          "data": {
            "text/plain": [
              "LogisticRegression(max_iter=2000)"
            ],
            "text/html": [
              "<style>#sk-container-id-2 {color: black;background-color: white;}#sk-container-id-2 pre{padding: 0;}#sk-container-id-2 div.sk-toggleable {background-color: white;}#sk-container-id-2 label.sk-toggleable__label {cursor: pointer;display: block;width: 100%;margin-bottom: 0;padding: 0.3em;box-sizing: border-box;text-align: center;}#sk-container-id-2 label.sk-toggleable__label-arrow:before {content: \"▸\";float: left;margin-right: 0.25em;color: #696969;}#sk-container-id-2 label.sk-toggleable__label-arrow:hover:before {color: black;}#sk-container-id-2 div.sk-estimator:hover label.sk-toggleable__label-arrow:before {color: black;}#sk-container-id-2 div.sk-toggleable__content {max-height: 0;max-width: 0;overflow: hidden;text-align: left;background-color: #f0f8ff;}#sk-container-id-2 div.sk-toggleable__content pre {margin: 0.2em;color: black;border-radius: 0.25em;background-color: #f0f8ff;}#sk-container-id-2 input.sk-toggleable__control:checked~div.sk-toggleable__content {max-height: 200px;max-width: 100%;overflow: auto;}#sk-container-id-2 input.sk-toggleable__control:checked~label.sk-toggleable__label-arrow:before {content: \"▾\";}#sk-container-id-2 div.sk-estimator input.sk-toggleable__control:checked~label.sk-toggleable__label {background-color: #d4ebff;}#sk-container-id-2 div.sk-label input.sk-toggleable__control:checked~label.sk-toggleable__label {background-color: #d4ebff;}#sk-container-id-2 input.sk-hidden--visually {border: 0;clip: rect(1px 1px 1px 1px);clip: rect(1px, 1px, 1px, 1px);height: 1px;margin: -1px;overflow: hidden;padding: 0;position: absolute;width: 1px;}#sk-container-id-2 div.sk-estimator {font-family: monospace;background-color: #f0f8ff;border: 1px dotted black;border-radius: 0.25em;box-sizing: border-box;margin-bottom: 0.5em;}#sk-container-id-2 div.sk-estimator:hover {background-color: #d4ebff;}#sk-container-id-2 div.sk-parallel-item::after {content: \"\";width: 100%;border-bottom: 1px solid gray;flex-grow: 1;}#sk-container-id-2 div.sk-label:hover label.sk-toggleable__label {background-color: #d4ebff;}#sk-container-id-2 div.sk-serial::before {content: \"\";position: absolute;border-left: 1px solid gray;box-sizing: border-box;top: 0;bottom: 0;left: 50%;z-index: 0;}#sk-container-id-2 div.sk-serial {display: flex;flex-direction: column;align-items: center;background-color: white;padding-right: 0.2em;padding-left: 0.2em;position: relative;}#sk-container-id-2 div.sk-item {position: relative;z-index: 1;}#sk-container-id-2 div.sk-parallel {display: flex;align-items: stretch;justify-content: center;background-color: white;position: relative;}#sk-container-id-2 div.sk-item::before, #sk-container-id-2 div.sk-parallel-item::before {content: \"\";position: absolute;border-left: 1px solid gray;box-sizing: border-box;top: 0;bottom: 0;left: 50%;z-index: -1;}#sk-container-id-2 div.sk-parallel-item {display: flex;flex-direction: column;z-index: 1;position: relative;background-color: white;}#sk-container-id-2 div.sk-parallel-item:first-child::after {align-self: flex-end;width: 50%;}#sk-container-id-2 div.sk-parallel-item:last-child::after {align-self: flex-start;width: 50%;}#sk-container-id-2 div.sk-parallel-item:only-child::after {width: 0;}#sk-container-id-2 div.sk-dashed-wrapped {border: 1px dashed gray;margin: 0 0.4em 0.5em 0.4em;box-sizing: border-box;padding-bottom: 0.4em;background-color: white;}#sk-container-id-2 div.sk-label label {font-family: monospace;font-weight: bold;display: inline-block;line-height: 1.2em;}#sk-container-id-2 div.sk-label-container {text-align: center;}#sk-container-id-2 div.sk-container {/* jupyter's `normalize.less` sets `[hidden] { display: none; }` but bootstrap.min.css set `[hidden] { display: none !important; }` so we also need the `!important` here to be able to override the default hidden behavior on the sphinx rendered scikit-learn.org. See: https://github.com/scikit-learn/scikit-learn/issues/21755 */display: inline-block !important;position: relative;}#sk-container-id-2 div.sk-text-repr-fallback {display: none;}</style><div id=\"sk-container-id-2\" class=\"sk-top-container\"><div class=\"sk-text-repr-fallback\"><pre>LogisticRegression(max_iter=2000)</pre><b>In a Jupyter environment, please rerun this cell to show the HTML representation or trust the notebook. <br />On GitHub, the HTML representation is unable to render, please try loading this page with nbviewer.org.</b></div><div class=\"sk-container\" hidden><div class=\"sk-item\"><div class=\"sk-estimator sk-toggleable\"><input class=\"sk-toggleable__control sk-hidden--visually\" id=\"sk-estimator-id-2\" type=\"checkbox\" checked><label for=\"sk-estimator-id-2\" class=\"sk-toggleable__label sk-toggleable__label-arrow\">LogisticRegression</label><div class=\"sk-toggleable__content\"><pre>LogisticRegression(max_iter=2000)</pre></div></div></div></div></div>"
            ]
          },
          "metadata": {},
          "execution_count": 46
        }
      ]
    },
    {
      "cell_type": "code",
      "source": [
        "pred = model.predict(X_test)"
      ],
      "metadata": {
        "id": "3bDmOAAOSgUw"
      },
      "execution_count": 47,
      "outputs": []
    },
    {
      "cell_type": "code",
      "source": [
        "from sklearn.metrics import confusion_matrix"
      ],
      "metadata": {
        "id": "4SMxYAX2SwrY"
      },
      "execution_count": 49,
      "outputs": []
    },
    {
      "cell_type": "code",
      "source": [
        "cm = confusion_matrix(Y_test,pred)"
      ],
      "metadata": {
        "id": "ymTAzzCsS1Uz"
      },
      "execution_count": 48,
      "outputs": []
    },
    {
      "cell_type": "code",
      "source": [
        "print(cm)"
      ],
      "metadata": {
        "colab": {
          "base_uri": "https://localhost:8080/"
        },
        "id": "fot8Lp9wS5XB",
        "outputId": "c396b3bd-2d35-4e18-845e-126667815097"
      },
      "execution_count": 50,
      "outputs": [
        {
          "output_type": "stream",
          "name": "stdout",
          "text": [
            "[[ 26  42]\n",
            " [ 30 152]]\n"
          ]
        }
      ]
    },
    {
      "cell_type": "code",
      "source": [
        "print(\"accuracy is \", (cm[0,0]+cm[1,1])/(sum(sum(cm))))"
      ],
      "metadata": {
        "colab": {
          "base_uri": "https://localhost:8080/"
        },
        "id": "tnKjfYC3S6SI",
        "outputId": "fbab0053-b8ef-45e0-ab67-8c2aff1067f7"
      },
      "execution_count": 51,
      "outputs": [
        {
          "output_type": "stream",
          "name": "stdout",
          "text": [
            "accuracy is  0.712\n"
          ]
        }
      ]
    },
    {
      "cell_type": "code",
      "source": [
        "from sklearn import tree"
      ],
      "metadata": {
        "id": "gxbg_Zw8TUg-"
      },
      "execution_count": 52,
      "outputs": []
    },
    {
      "cell_type": "code",
      "source": [
        "model = tree.DecisionTreeClassifier()"
      ],
      "metadata": {
        "id": "IOKZTdP_TmlO"
      },
      "execution_count": 53,
      "outputs": []
    },
    {
      "cell_type": "code",
      "source": [
        "model.fit(X_train,Y_train)\n",
        "pred = model.predict(X_test)\n",
        "cm = confusion_matrix(Y_test,pred)\n",
        "print(cm)\n",
        "print(\"accuracy is \", (cm[0,0]+cm[1,1])/(sum(sum(cm))))"
      ],
      "metadata": {
        "colab": {
          "base_uri": "https://localhost:8080/"
        },
        "id": "MdomRI8MTopu",
        "outputId": "c672b2bd-859f-4ed8-c6a6-d32cc0316d3a"
      },
      "execution_count": 54,
      "outputs": [
        {
          "output_type": "stream",
          "name": "stdout",
          "text": [
            "[[ 33  35]\n",
            " [ 44 138]]\n",
            "accuracy is  0.684\n"
          ]
        }
      ]
    },
    {
      "cell_type": "code",
      "source": [
        "from sklearn import ensemble"
      ],
      "metadata": {
        "id": "J-S7zvTzTx4x"
      },
      "execution_count": 55,
      "outputs": []
    },
    {
      "cell_type": "code",
      "source": [
        "model = ensemble.RandomForestClassifier()"
      ],
      "metadata": {
        "id": "EXdBtXXTUXfi"
      },
      "execution_count": 56,
      "outputs": []
    },
    {
      "cell_type": "code",
      "source": [
        "model.fit(X_train,Y_train)\n",
        "pred = model.predict(X_test)\n",
        "cm = confusion_matrix(Y_test,pred)\n",
        "print(cm)\n",
        "print(\"accuracy is \", (cm[0,0]+cm[1,1])/(sum(sum(cm))))"
      ],
      "metadata": {
        "colab": {
          "base_uri": "https://localhost:8080/"
        },
        "id": "UPW8nIYxUbZV",
        "outputId": "fb50bb4c-ac88-4f9c-adb2-75aaecd9860f"
      },
      "execution_count": null,
      "outputs": [
        {
          "output_type": "stream",
          "name": "stdout",
          "text": [
            "[[ 33  48]\n",
            " [ 16 153]]\n",
            "accuracy is  0.744\n"
          ]
        }
      ]
    },
    {
      "cell_type": "code",
      "source": [
        "model = ensemble.GradientBoostingClassifier()"
      ],
      "metadata": {
        "id": "eUD9RyLPUcns"
      },
      "execution_count": 57,
      "outputs": []
    },
    {
      "cell_type": "code",
      "source": [
        "model.fit(X_train,Y_train)\n",
        "pred = model.predict(X_test)\n",
        "cm = confusion_matrix(Y_test,pred)\n",
        "print(cm)\n",
        "print(\"accuracy is \", (cm[0,0]+cm[1,1])/(sum(sum(cm))))"
      ],
      "metadata": {
        "colab": {
          "base_uri": "https://localhost:8080/"
        },
        "id": "E6jZBz2XU1pF",
        "outputId": "7ef61b04-2a6f-4b5c-8e70-7aa0040643cd"
      },
      "execution_count": 58,
      "outputs": [
        {
          "output_type": "stream",
          "name": "stdout",
          "text": [
            "[[ 28  40]\n",
            " [ 25 157]]\n",
            "accuracy is  0.74\n"
          ]
        }
      ]
    },
    {
      "cell_type": "code",
      "source": [
        "from sklearn import neural_network\n",
        "model = neural_network.MLPClassifier(max_iter=2000)\n",
        "model.fit(X_train,Y_train)\n",
        "pred = model.predict(X_test)\n",
        "from sklearn.metrics import confusion_matrix\n",
        "cm = confusion_matrix(Y_test, pred)\n",
        "print(cm)\n",
        "print(\"Accuracy is \", (cm[0,0]+cm[1,1])/(sum(sum(cm))))\n",
        "\n",
        "#no meaning as neural network not used for structured data\n",
        "#random state usually used in exams to standardise results"
      ],
      "metadata": {
        "id": "A3qd7fOAU3IC",
        "outputId": "bde8c6ac-d5ce-48b7-93b7-dde05cc46ecf",
        "colab": {
          "base_uri": "https://localhost:8080/"
        }
      },
      "execution_count": 59,
      "outputs": [
        {
          "output_type": "stream",
          "name": "stdout",
          "text": [
            "[[ 42  26]\n",
            " [ 40 142]]\n",
            "Accuracy is  0.736\n"
          ]
        }
      ]
    },
    {
      "cell_type": "code",
      "source": [
        "from lce import LCEClassifier"
      ],
      "metadata": {
        "id": "e8fpcublV5aG"
      },
      "execution_count": 60,
      "outputs": []
    },
    {
      "cell_type": "code",
      "source": [
        "model = LCEClassifier()"
      ],
      "metadata": {
        "id": "BxgiArB0WDC_"
      },
      "execution_count": 61,
      "outputs": []
    },
    {
      "cell_type": "code",
      "source": [
        "model.fit(X_train, Y_train)\n",
        "pred = model.predict(X_test)\n",
        "cm = confusion_matrix(Y_test, pred)\n",
        "print(cm)\n",
        "print(\"accuracy is\", (cm[0,0]+cm[1,1])/(sum(sum(cm))))"
      ],
      "metadata": {
        "id": "lLYOfmSoWH4-",
        "outputId": "d136cec9-6de3-48f8-fcee-ca2b8bca31c2",
        "colab": {
          "base_uri": "https://localhost:8080/"
        }
      },
      "execution_count": 62,
      "outputs": [
        {
          "output_type": "stream",
          "name": "stdout",
          "text": [
            "[[ 33  35]\n",
            " [ 27 155]]\n",
            "accuracy is 0.752\n"
          ]
        }
      ]
    },
    {
      "cell_type": "code",
      "source": [
        "from keras.models import Sequential\n",
        "from keras.layers import Dense,Dropout"
      ],
      "metadata": {
        "id": "tSzEoitRWrKn"
      },
      "execution_count": 65,
      "outputs": []
    },
    {
      "cell_type": "code",
      "source": [
        "model = Sequential()\n",
        "model.add(Dense(100,input_dim=47,activation=\"relu\")) #default is 100, relu is regularisation equivalent in machine learning (normalising)\n",
        "model.add(Dropout(0.1)) #prevent overfitting (train test very good but test set collapse)\n",
        "model.add(Dense(100,activation=\"relu\"))\n",
        "model.add(Dropout(0.1))\n",
        "model.add(Dense(1, activation=\"sigmoid\"))"
      ],
      "metadata": {
        "id": "bdNYBFhYW14o"
      },
      "execution_count": 69,
      "outputs": []
    },
    {
      "cell_type": "code",
      "source": [
        "model.summary()"
      ],
      "metadata": {
        "id": "3rkU1KX5Yvmx",
        "outputId": "386015b7-a2b3-46b0-b587-180d33d8c79c",
        "colab": {
          "base_uri": "https://localhost:8080/"
        }
      },
      "execution_count": 70,
      "outputs": [
        {
          "output_type": "stream",
          "name": "stdout",
          "text": [
            "Model: \"sequential_1\"\n",
            "_________________________________________________________________\n",
            " Layer (type)                Output Shape              Param #   \n",
            "=================================================================\n",
            " dense_3 (Dense)             (None, 100)               4800      \n",
            "                                                                 \n",
            " dropout_2 (Dropout)         (None, 100)               0         \n",
            "                                                                 \n",
            " dense_4 (Dense)             (None, 100)               10100     \n",
            "                                                                 \n",
            " dropout_3 (Dropout)         (None, 100)               0         \n",
            "                                                                 \n",
            " dense_5 (Dense)             (None, 1)                 101       \n",
            "                                                                 \n",
            "=================================================================\n",
            "Total params: 15001 (58.60 KB)\n",
            "Trainable params: 15001 (58.60 KB)\n",
            "Non-trainable params: 0 (0.00 Byte)\n",
            "_________________________________________________________________\n"
          ]
        }
      ]
    },
    {
      "cell_type": "code",
      "source": [
        "model.compile(loss=\"binary_crossentropy\",optimizer=\"adam\",metrics=[\"accuracy\"])"
      ],
      "metadata": {
        "id": "ZWap2pA-Y4DR"
      },
      "execution_count": 71,
      "outputs": []
    },
    {
      "cell_type": "code",
      "source": [
        "h = model.fit(X_train,Y_train,batch_size=5,epochs=300)"
      ],
      "metadata": {
        "id": "dHRjWvvqZFrq",
        "outputId": "fef39a89-1bb2-4ed8-b004-2b8214c742f8",
        "colab": {
          "base_uri": "https://localhost:8080/"
        }
      },
      "execution_count": 75,
      "outputs": [
        {
          "output_type": "stream",
          "name": "stdout",
          "text": [
            "Epoch 1/300\n",
            "150/150 [==============================] - 1s 4ms/step - loss: 0.0904 - accuracy: 0.9693\n",
            "Epoch 2/300\n",
            "150/150 [==============================] - 1s 4ms/step - loss: 0.0891 - accuracy: 0.9707\n",
            "Epoch 3/300\n",
            "150/150 [==============================] - 1s 4ms/step - loss: 0.1071 - accuracy: 0.9613\n",
            "Epoch 4/300\n",
            "150/150 [==============================] - 1s 4ms/step - loss: 0.1135 - accuracy: 0.9587\n",
            "Epoch 5/300\n",
            "150/150 [==============================] - 0s 2ms/step - loss: 0.0922 - accuracy: 0.9600\n",
            "Epoch 6/300\n",
            "150/150 [==============================] - 0s 2ms/step - loss: 0.0662 - accuracy: 0.9800\n",
            "Epoch 7/300\n",
            "150/150 [==============================] - 0s 2ms/step - loss: 0.0761 - accuracy: 0.9773\n",
            "Epoch 8/300\n",
            "150/150 [==============================] - 0s 2ms/step - loss: 0.0667 - accuracy: 0.9813\n",
            "Epoch 9/300\n",
            "150/150 [==============================] - 0s 2ms/step - loss: 0.0842 - accuracy: 0.9720\n",
            "Epoch 10/300\n",
            "150/150 [==============================] - 0s 2ms/step - loss: 0.0589 - accuracy: 0.9787\n",
            "Epoch 11/300\n",
            "150/150 [==============================] - 0s 2ms/step - loss: 0.0528 - accuracy: 0.9827\n",
            "Epoch 12/300\n",
            "150/150 [==============================] - 0s 2ms/step - loss: 0.1085 - accuracy: 0.9453\n",
            "Epoch 13/300\n",
            "150/150 [==============================] - 0s 2ms/step - loss: 0.0679 - accuracy: 0.9760\n",
            "Epoch 14/300\n",
            "150/150 [==============================] - 0s 3ms/step - loss: 0.1174 - accuracy: 0.9640\n",
            "Epoch 15/300\n",
            "150/150 [==============================] - 1s 3ms/step - loss: 0.1028 - accuracy: 0.9640\n",
            "Epoch 16/300\n",
            "150/150 [==============================] - 0s 3ms/step - loss: 0.0579 - accuracy: 0.9827\n",
            "Epoch 17/300\n",
            "150/150 [==============================] - 0s 3ms/step - loss: 0.1205 - accuracy: 0.9520\n",
            "Epoch 18/300\n",
            "150/150 [==============================] - 0s 3ms/step - loss: 0.0795 - accuracy: 0.9653\n",
            "Epoch 19/300\n",
            "150/150 [==============================] - 0s 3ms/step - loss: 0.1000 - accuracy: 0.9653\n",
            "Epoch 20/300\n",
            "150/150 [==============================] - 0s 3ms/step - loss: 0.0637 - accuracy: 0.9733\n",
            "Epoch 21/300\n",
            "150/150 [==============================] - 0s 3ms/step - loss: 0.0692 - accuracy: 0.9773\n",
            "Epoch 22/300\n",
            "150/150 [==============================] - 0s 2ms/step - loss: 0.0599 - accuracy: 0.9840\n",
            "Epoch 23/300\n",
            "150/150 [==============================] - 0s 2ms/step - loss: 0.0627 - accuracy: 0.9800\n",
            "Epoch 24/300\n",
            "150/150 [==============================] - 0s 2ms/step - loss: 0.0866 - accuracy: 0.9693\n",
            "Epoch 25/300\n",
            "150/150 [==============================] - 0s 2ms/step - loss: 0.0578 - accuracy: 0.9773\n",
            "Epoch 26/300\n",
            "150/150 [==============================] - 0s 2ms/step - loss: 0.1130 - accuracy: 0.9627\n",
            "Epoch 27/300\n",
            "150/150 [==============================] - 0s 2ms/step - loss: 0.0680 - accuracy: 0.9787\n",
            "Epoch 28/300\n",
            "150/150 [==============================] - 0s 2ms/step - loss: 0.0853 - accuracy: 0.9773\n",
            "Epoch 29/300\n",
            "150/150 [==============================] - 0s 2ms/step - loss: 0.1218 - accuracy: 0.9560\n",
            "Epoch 30/300\n",
            "150/150 [==============================] - 0s 2ms/step - loss: 0.0473 - accuracy: 0.9853\n",
            "Epoch 31/300\n",
            "150/150 [==============================] - 0s 2ms/step - loss: 0.0671 - accuracy: 0.9827\n",
            "Epoch 32/300\n",
            "150/150 [==============================] - 0s 2ms/step - loss: 0.1026 - accuracy: 0.9573\n",
            "Epoch 33/300\n",
            "150/150 [==============================] - 0s 2ms/step - loss: 0.0478 - accuracy: 0.9853\n",
            "Epoch 34/300\n",
            "150/150 [==============================] - 0s 2ms/step - loss: 0.0606 - accuracy: 0.9773\n",
            "Epoch 35/300\n",
            "150/150 [==============================] - 0s 2ms/step - loss: 0.0762 - accuracy: 0.9787\n",
            "Epoch 36/300\n",
            "150/150 [==============================] - 0s 2ms/step - loss: 0.0755 - accuracy: 0.9720\n",
            "Epoch 37/300\n",
            "150/150 [==============================] - 0s 2ms/step - loss: 0.0429 - accuracy: 0.9853\n",
            "Epoch 38/300\n",
            "150/150 [==============================] - 0s 2ms/step - loss: 0.0389 - accuracy: 0.9880\n",
            "Epoch 39/300\n",
            "150/150 [==============================] - 0s 2ms/step - loss: 0.0513 - accuracy: 0.9840\n",
            "Epoch 40/300\n",
            "150/150 [==============================] - 0s 2ms/step - loss: 0.0833 - accuracy: 0.9653\n",
            "Epoch 41/300\n",
            "150/150 [==============================] - 0s 2ms/step - loss: 0.1190 - accuracy: 0.9587\n",
            "Epoch 42/300\n",
            "150/150 [==============================] - 0s 2ms/step - loss: 0.0943 - accuracy: 0.9653\n",
            "Epoch 43/300\n",
            "150/150 [==============================] - 0s 2ms/step - loss: 0.0702 - accuracy: 0.9707\n",
            "Epoch 44/300\n",
            "150/150 [==============================] - 0s 2ms/step - loss: 0.0587 - accuracy: 0.9787\n",
            "Epoch 45/300\n",
            "150/150 [==============================] - 0s 2ms/step - loss: 0.0652 - accuracy: 0.9760\n",
            "Epoch 46/300\n",
            "150/150 [==============================] - 0s 2ms/step - loss: 0.0630 - accuracy: 0.9760\n",
            "Epoch 47/300\n",
            "150/150 [==============================] - 0s 2ms/step - loss: 0.0361 - accuracy: 0.9880\n",
            "Epoch 48/300\n",
            "150/150 [==============================] - 0s 2ms/step - loss: 0.0684 - accuracy: 0.9800\n",
            "Epoch 49/300\n",
            "150/150 [==============================] - 0s 2ms/step - loss: 0.0359 - accuracy: 0.9893\n",
            "Epoch 50/300\n",
            "150/150 [==============================] - 0s 2ms/step - loss: 0.0275 - accuracy: 0.9880\n",
            "Epoch 51/300\n",
            "150/150 [==============================] - 0s 2ms/step - loss: 0.0482 - accuracy: 0.9813\n",
            "Epoch 52/300\n",
            "150/150 [==============================] - 0s 2ms/step - loss: 0.0510 - accuracy: 0.9867\n",
            "Epoch 53/300\n",
            "150/150 [==============================] - 0s 3ms/step - loss: 0.0585 - accuracy: 0.9800\n",
            "Epoch 54/300\n",
            "150/150 [==============================] - 0s 3ms/step - loss: 0.1159 - accuracy: 0.9507\n",
            "Epoch 55/300\n",
            "150/150 [==============================] - 0s 3ms/step - loss: 0.0484 - accuracy: 0.9827\n",
            "Epoch 56/300\n",
            "150/150 [==============================] - 0s 3ms/step - loss: 0.0676 - accuracy: 0.9787\n",
            "Epoch 57/300\n",
            "150/150 [==============================] - 0s 3ms/step - loss: 0.0606 - accuracy: 0.9773\n",
            "Epoch 58/300\n",
            "150/150 [==============================] - 0s 3ms/step - loss: 0.0766 - accuracy: 0.9693\n",
            "Epoch 59/300\n",
            "150/150 [==============================] - 1s 3ms/step - loss: 0.0669 - accuracy: 0.9773\n",
            "Epoch 60/300\n",
            "150/150 [==============================] - 0s 3ms/step - loss: 0.0660 - accuracy: 0.9787\n",
            "Epoch 61/300\n",
            "150/150 [==============================] - 0s 2ms/step - loss: 0.0455 - accuracy: 0.9787\n",
            "Epoch 62/300\n",
            "150/150 [==============================] - 0s 2ms/step - loss: 0.0368 - accuracy: 0.9920\n",
            "Epoch 63/300\n",
            "150/150 [==============================] - 0s 2ms/step - loss: 0.0682 - accuracy: 0.9720\n",
            "Epoch 64/300\n",
            "150/150 [==============================] - 0s 2ms/step - loss: 0.0440 - accuracy: 0.9867\n",
            "Epoch 65/300\n",
            "150/150 [==============================] - 0s 2ms/step - loss: 0.0585 - accuracy: 0.9813\n",
            "Epoch 66/300\n",
            "150/150 [==============================] - 0s 2ms/step - loss: 0.0377 - accuracy: 0.9880\n",
            "Epoch 67/300\n",
            "150/150 [==============================] - 0s 2ms/step - loss: 0.0763 - accuracy: 0.9720\n",
            "Epoch 68/300\n",
            "150/150 [==============================] - 0s 2ms/step - loss: 0.0540 - accuracy: 0.9827\n",
            "Epoch 69/300\n",
            "150/150 [==============================] - 0s 2ms/step - loss: 0.0377 - accuracy: 0.9933\n",
            "Epoch 70/300\n",
            "150/150 [==============================] - 0s 2ms/step - loss: 0.0635 - accuracy: 0.9867\n",
            "Epoch 71/300\n",
            "150/150 [==============================] - 0s 2ms/step - loss: 0.1045 - accuracy: 0.9640\n",
            "Epoch 72/300\n",
            "150/150 [==============================] - 0s 2ms/step - loss: 0.1023 - accuracy: 0.9667\n",
            "Epoch 73/300\n",
            "150/150 [==============================] - 0s 2ms/step - loss: 0.0509 - accuracy: 0.9827\n",
            "Epoch 74/300\n",
            "150/150 [==============================] - 0s 2ms/step - loss: 0.0595 - accuracy: 0.9827\n",
            "Epoch 75/300\n",
            "150/150 [==============================] - 0s 2ms/step - loss: 0.0825 - accuracy: 0.9693\n",
            "Epoch 76/300\n",
            "150/150 [==============================] - 0s 2ms/step - loss: 0.0512 - accuracy: 0.9800\n",
            "Epoch 77/300\n",
            "150/150 [==============================] - 0s 2ms/step - loss: 0.0420 - accuracy: 0.9933\n",
            "Epoch 78/300\n",
            "150/150 [==============================] - 0s 2ms/step - loss: 0.0608 - accuracy: 0.9787\n",
            "Epoch 79/300\n",
            "150/150 [==============================] - 0s 2ms/step - loss: 0.0782 - accuracy: 0.9707\n",
            "Epoch 80/300\n",
            "150/150 [==============================] - 0s 2ms/step - loss: 0.0982 - accuracy: 0.9693\n",
            "Epoch 81/300\n",
            "150/150 [==============================] - 0s 3ms/step - loss: 0.0343 - accuracy: 0.9867\n",
            "Epoch 82/300\n",
            "150/150 [==============================] - 0s 3ms/step - loss: 0.0386 - accuracy: 0.9867\n",
            "Epoch 83/300\n",
            "150/150 [==============================] - 0s 3ms/step - loss: 0.0398 - accuracy: 0.9867\n",
            "Epoch 84/300\n",
            "150/150 [==============================] - 1s 3ms/step - loss: 0.0240 - accuracy: 0.9933\n",
            "Epoch 85/300\n",
            "150/150 [==============================] - 0s 3ms/step - loss: 0.0341 - accuracy: 0.9867\n",
            "Epoch 86/300\n",
            "150/150 [==============================] - 0s 3ms/step - loss: 0.0349 - accuracy: 0.9893\n",
            "Epoch 87/300\n",
            "150/150 [==============================] - 1s 3ms/step - loss: 0.0417 - accuracy: 0.9853\n",
            "Epoch 88/300\n",
            "150/150 [==============================] - 1s 4ms/step - loss: 0.0422 - accuracy: 0.9813\n",
            "Epoch 89/300\n",
            "150/150 [==============================] - 1s 4ms/step - loss: 0.0855 - accuracy: 0.9760\n",
            "Epoch 90/300\n",
            "150/150 [==============================] - 0s 3ms/step - loss: 0.0866 - accuracy: 0.9787\n",
            "Epoch 91/300\n",
            "150/150 [==============================] - 1s 3ms/step - loss: 0.0263 - accuracy: 0.9920\n",
            "Epoch 92/300\n",
            "150/150 [==============================] - 0s 3ms/step - loss: 0.0440 - accuracy: 0.9893\n",
            "Epoch 93/300\n",
            "150/150 [==============================] - 1s 4ms/step - loss: 0.0321 - accuracy: 0.9907\n",
            "Epoch 94/300\n",
            "150/150 [==============================] - 1s 3ms/step - loss: 0.0203 - accuracy: 0.9973\n",
            "Epoch 95/300\n",
            "150/150 [==============================] - 1s 4ms/step - loss: 0.0477 - accuracy: 0.9840\n",
            "Epoch 96/300\n",
            "150/150 [==============================] - 1s 4ms/step - loss: 0.0656 - accuracy: 0.9733\n",
            "Epoch 97/300\n",
            "150/150 [==============================] - 1s 4ms/step - loss: 0.0741 - accuracy: 0.9800\n",
            "Epoch 98/300\n",
            "150/150 [==============================] - 0s 3ms/step - loss: 0.0839 - accuracy: 0.9747\n",
            "Epoch 99/300\n",
            "150/150 [==============================] - 1s 3ms/step - loss: 0.0559 - accuracy: 0.9840\n",
            "Epoch 100/300\n",
            "150/150 [==============================] - 0s 3ms/step - loss: 0.0471 - accuracy: 0.9827\n",
            "Epoch 101/300\n",
            "150/150 [==============================] - 1s 3ms/step - loss: 0.0259 - accuracy: 0.9920\n",
            "Epoch 102/300\n",
            "150/150 [==============================] - 0s 2ms/step - loss: 0.0687 - accuracy: 0.9707\n",
            "Epoch 103/300\n",
            "150/150 [==============================] - 0s 2ms/step - loss: 0.0782 - accuracy: 0.9720\n",
            "Epoch 104/300\n",
            "150/150 [==============================] - 0s 2ms/step - loss: 0.0976 - accuracy: 0.9613\n",
            "Epoch 105/300\n",
            "150/150 [==============================] - 0s 2ms/step - loss: 0.0269 - accuracy: 0.9920\n",
            "Epoch 106/300\n",
            "150/150 [==============================] - 0s 2ms/step - loss: 0.0271 - accuracy: 0.9853\n",
            "Epoch 107/300\n",
            "150/150 [==============================] - 0s 2ms/step - loss: 0.0461 - accuracy: 0.9827\n",
            "Epoch 108/300\n",
            "150/150 [==============================] - 0s 2ms/step - loss: 0.0358 - accuracy: 0.9907\n",
            "Epoch 109/300\n",
            "150/150 [==============================] - 0s 2ms/step - loss: 0.0401 - accuracy: 0.9827\n",
            "Epoch 110/300\n",
            "150/150 [==============================] - 0s 2ms/step - loss: 0.0681 - accuracy: 0.9693\n",
            "Epoch 111/300\n",
            "150/150 [==============================] - 0s 2ms/step - loss: 0.0539 - accuracy: 0.9773\n",
            "Epoch 112/300\n",
            "150/150 [==============================] - 0s 2ms/step - loss: 0.0331 - accuracy: 0.9893\n",
            "Epoch 113/300\n",
            "150/150 [==============================] - 0s 2ms/step - loss: 0.0455 - accuracy: 0.9800\n",
            "Epoch 114/300\n",
            "150/150 [==============================] - 0s 2ms/step - loss: 0.0508 - accuracy: 0.9813\n",
            "Epoch 115/300\n",
            "150/150 [==============================] - 0s 2ms/step - loss: 0.0308 - accuracy: 0.9907\n",
            "Epoch 116/300\n",
            "150/150 [==============================] - 0s 2ms/step - loss: 0.0459 - accuracy: 0.9867\n",
            "Epoch 117/300\n",
            "150/150 [==============================] - 0s 2ms/step - loss: 0.0416 - accuracy: 0.9880\n",
            "Epoch 118/300\n",
            "150/150 [==============================] - 0s 2ms/step - loss: 0.0544 - accuracy: 0.9840\n",
            "Epoch 119/300\n",
            "150/150 [==============================] - 0s 2ms/step - loss: 0.0546 - accuracy: 0.9773\n",
            "Epoch 120/300\n",
            "150/150 [==============================] - 0s 2ms/step - loss: 0.0601 - accuracy: 0.9800\n",
            "Epoch 121/300\n",
            "150/150 [==============================] - 0s 2ms/step - loss: 0.0465 - accuracy: 0.9813\n",
            "Epoch 122/300\n",
            "150/150 [==============================] - 0s 2ms/step - loss: 0.0332 - accuracy: 0.9867\n",
            "Epoch 123/300\n",
            "150/150 [==============================] - 0s 2ms/step - loss: 0.0611 - accuracy: 0.9760\n",
            "Epoch 124/300\n",
            "150/150 [==============================] - 0s 2ms/step - loss: 0.0401 - accuracy: 0.9787\n",
            "Epoch 125/300\n",
            "150/150 [==============================] - 0s 2ms/step - loss: 0.0338 - accuracy: 0.9893\n",
            "Epoch 126/300\n",
            "150/150 [==============================] - 0s 3ms/step - loss: 0.0395 - accuracy: 0.9867\n",
            "Epoch 127/300\n",
            "150/150 [==============================] - 0s 3ms/step - loss: 0.0408 - accuracy: 0.9867\n",
            "Epoch 128/300\n",
            "150/150 [==============================] - 0s 3ms/step - loss: 0.0339 - accuracy: 0.9867\n",
            "Epoch 129/300\n",
            "150/150 [==============================] - 0s 3ms/step - loss: 0.0392 - accuracy: 0.9867\n",
            "Epoch 130/300\n",
            "150/150 [==============================] - 0s 3ms/step - loss: 0.0868 - accuracy: 0.9667\n",
            "Epoch 131/300\n",
            "150/150 [==============================] - 0s 3ms/step - loss: 0.0391 - accuracy: 0.9827\n",
            "Epoch 132/300\n",
            "150/150 [==============================] - 0s 3ms/step - loss: 0.0276 - accuracy: 0.9933\n",
            "Epoch 133/300\n",
            "150/150 [==============================] - 0s 3ms/step - loss: 0.0596 - accuracy: 0.9773\n",
            "Epoch 134/300\n",
            "150/150 [==============================] - 0s 2ms/step - loss: 0.0603 - accuracy: 0.9800\n",
            "Epoch 135/300\n",
            "150/150 [==============================] - 0s 2ms/step - loss: 0.0334 - accuracy: 0.9880\n",
            "Epoch 136/300\n",
            "150/150 [==============================] - 0s 2ms/step - loss: 0.0496 - accuracy: 0.9800\n",
            "Epoch 137/300\n",
            "150/150 [==============================] - 0s 2ms/step - loss: 0.0516 - accuracy: 0.9787\n",
            "Epoch 138/300\n",
            "150/150 [==============================] - 0s 2ms/step - loss: 0.0440 - accuracy: 0.9893\n",
            "Epoch 139/300\n",
            "150/150 [==============================] - 0s 2ms/step - loss: 0.1025 - accuracy: 0.9680\n",
            "Epoch 140/300\n",
            "150/150 [==============================] - 0s 2ms/step - loss: 0.0488 - accuracy: 0.9867\n",
            "Epoch 141/300\n",
            "150/150 [==============================] - 0s 2ms/step - loss: 0.0314 - accuracy: 0.9867\n",
            "Epoch 142/300\n",
            "150/150 [==============================] - 0s 2ms/step - loss: 0.0245 - accuracy: 0.9920\n",
            "Epoch 143/300\n",
            "150/150 [==============================] - 0s 2ms/step - loss: 0.0252 - accuracy: 0.9920\n",
            "Epoch 144/300\n",
            "150/150 [==============================] - 0s 2ms/step - loss: 0.0174 - accuracy: 0.9920\n",
            "Epoch 145/300\n",
            "150/150 [==============================] - 0s 2ms/step - loss: 0.0409 - accuracy: 0.9920\n",
            "Epoch 146/300\n",
            "150/150 [==============================] - 0s 2ms/step - loss: 0.0186 - accuracy: 0.9947\n",
            "Epoch 147/300\n",
            "150/150 [==============================] - 0s 2ms/step - loss: 0.0303 - accuracy: 0.9880\n",
            "Epoch 148/300\n",
            "150/150 [==============================] - 0s 2ms/step - loss: 0.0510 - accuracy: 0.9867\n",
            "Epoch 149/300\n",
            "150/150 [==============================] - 0s 2ms/step - loss: 0.0569 - accuracy: 0.9773\n",
            "Epoch 150/300\n",
            "150/150 [==============================] - 0s 2ms/step - loss: 0.0872 - accuracy: 0.9707\n",
            "Epoch 151/300\n",
            "150/150 [==============================] - 0s 2ms/step - loss: 0.0574 - accuracy: 0.9853\n",
            "Epoch 152/300\n",
            "150/150 [==============================] - 0s 2ms/step - loss: 0.0742 - accuracy: 0.9707\n",
            "Epoch 153/300\n",
            "150/150 [==============================] - 0s 2ms/step - loss: 0.0262 - accuracy: 0.9893\n",
            "Epoch 154/300\n",
            "150/150 [==============================] - 0s 2ms/step - loss: 0.0204 - accuracy: 0.9960\n",
            "Epoch 155/300\n",
            "150/150 [==============================] - 0s 2ms/step - loss: 0.0674 - accuracy: 0.9760\n",
            "Epoch 156/300\n",
            "150/150 [==============================] - 1s 3ms/step - loss: 0.0394 - accuracy: 0.9853\n",
            "Epoch 157/300\n",
            "150/150 [==============================] - 0s 3ms/step - loss: 0.0486 - accuracy: 0.9813\n",
            "Epoch 158/300\n",
            "150/150 [==============================] - 0s 3ms/step - loss: 0.0122 - accuracy: 0.9973\n",
            "Epoch 159/300\n",
            "150/150 [==============================] - 0s 3ms/step - loss: 0.0267 - accuracy: 0.9867\n",
            "Epoch 160/300\n",
            "150/150 [==============================] - 0s 3ms/step - loss: 0.0458 - accuracy: 0.9827\n",
            "Epoch 161/300\n",
            "150/150 [==============================] - 0s 3ms/step - loss: 0.0491 - accuracy: 0.9813\n",
            "Epoch 162/300\n",
            "150/150 [==============================] - 1s 4ms/step - loss: 0.0242 - accuracy: 0.9947\n",
            "Epoch 163/300\n",
            "150/150 [==============================] - 1s 4ms/step - loss: 0.0480 - accuracy: 0.9813\n",
            "Epoch 164/300\n",
            "150/150 [==============================] - 1s 4ms/step - loss: 0.0636 - accuracy: 0.9773\n",
            "Epoch 165/300\n",
            "150/150 [==============================] - 0s 3ms/step - loss: 0.0529 - accuracy: 0.9840\n",
            "Epoch 166/300\n",
            "150/150 [==============================] - 0s 3ms/step - loss: 0.0148 - accuracy: 0.9960\n",
            "Epoch 167/300\n",
            "150/150 [==============================] - 0s 3ms/step - loss: 0.0329 - accuracy: 0.9867\n",
            "Epoch 168/300\n",
            "150/150 [==============================] - 0s 3ms/step - loss: 0.1565 - accuracy: 0.9587\n",
            "Epoch 169/300\n",
            "150/150 [==============================] - 0s 3ms/step - loss: 0.0407 - accuracy: 0.9880\n",
            "Epoch 170/300\n",
            "150/150 [==============================] - 0s 3ms/step - loss: 0.0228 - accuracy: 0.9907\n",
            "Epoch 171/300\n",
            "150/150 [==============================] - 0s 3ms/step - loss: 0.0296 - accuracy: 0.9933\n",
            "Epoch 172/300\n",
            "150/150 [==============================] - 0s 2ms/step - loss: 0.0180 - accuracy: 0.9947\n",
            "Epoch 173/300\n",
            "150/150 [==============================] - 0s 2ms/step - loss: 0.0210 - accuracy: 0.9933\n",
            "Epoch 174/300\n",
            "150/150 [==============================] - 0s 2ms/step - loss: 0.0722 - accuracy: 0.9787\n",
            "Epoch 175/300\n",
            "150/150 [==============================] - 0s 2ms/step - loss: 0.0407 - accuracy: 0.9827\n",
            "Epoch 176/300\n",
            "150/150 [==============================] - 0s 2ms/step - loss: 0.0423 - accuracy: 0.9800\n",
            "Epoch 177/300\n",
            "150/150 [==============================] - 0s 2ms/step - loss: 0.0517 - accuracy: 0.9827\n",
            "Epoch 178/300\n",
            "150/150 [==============================] - 0s 2ms/step - loss: 0.0234 - accuracy: 0.9920\n",
            "Epoch 179/300\n",
            "150/150 [==============================] - 0s 2ms/step - loss: 0.0422 - accuracy: 0.9867\n",
            "Epoch 180/300\n",
            "150/150 [==============================] - 0s 2ms/step - loss: 0.0190 - accuracy: 0.9933\n",
            "Epoch 181/300\n",
            "150/150 [==============================] - 0s 2ms/step - loss: 0.0499 - accuracy: 0.9827\n",
            "Epoch 182/300\n",
            "150/150 [==============================] - 0s 2ms/step - loss: 0.0744 - accuracy: 0.9787\n",
            "Epoch 183/300\n",
            "150/150 [==============================] - 0s 2ms/step - loss: 0.0197 - accuracy: 0.9920\n",
            "Epoch 184/300\n",
            "150/150 [==============================] - 0s 2ms/step - loss: 0.0446 - accuracy: 0.9840\n",
            "Epoch 185/300\n",
            "150/150 [==============================] - 0s 2ms/step - loss: 0.0391 - accuracy: 0.9880\n",
            "Epoch 186/300\n",
            "150/150 [==============================] - 0s 2ms/step - loss: 0.0208 - accuracy: 0.9933\n",
            "Epoch 187/300\n",
            "150/150 [==============================] - 0s 2ms/step - loss: 0.0296 - accuracy: 0.9907\n",
            "Epoch 188/300\n",
            "150/150 [==============================] - 0s 2ms/step - loss: 0.0224 - accuracy: 0.9907\n",
            "Epoch 189/300\n",
            "150/150 [==============================] - 0s 2ms/step - loss: 0.0361 - accuracy: 0.9880\n",
            "Epoch 190/300\n",
            "150/150 [==============================] - 0s 2ms/step - loss: 0.0574 - accuracy: 0.9773\n",
            "Epoch 191/300\n",
            "150/150 [==============================] - 0s 2ms/step - loss: 0.0282 - accuracy: 0.9880\n",
            "Epoch 192/300\n",
            "150/150 [==============================] - 0s 2ms/step - loss: 0.0194 - accuracy: 0.9920\n",
            "Epoch 193/300\n",
            "150/150 [==============================] - 0s 2ms/step - loss: 0.0135 - accuracy: 0.9947\n",
            "Epoch 194/300\n",
            "150/150 [==============================] - 0s 2ms/step - loss: 0.0246 - accuracy: 0.9920\n",
            "Epoch 195/300\n",
            "150/150 [==============================] - 0s 2ms/step - loss: 0.0659 - accuracy: 0.9827\n",
            "Epoch 196/300\n",
            "150/150 [==============================] - 0s 2ms/step - loss: 0.0754 - accuracy: 0.9800\n",
            "Epoch 197/300\n",
            "150/150 [==============================] - 0s 2ms/step - loss: 0.0561 - accuracy: 0.9787\n",
            "Epoch 198/300\n",
            "150/150 [==============================] - 0s 2ms/step - loss: 0.0365 - accuracy: 0.9867\n",
            "Epoch 199/300\n",
            "150/150 [==============================] - 0s 2ms/step - loss: 0.0371 - accuracy: 0.9880\n",
            "Epoch 200/300\n",
            "150/150 [==============================] - 0s 2ms/step - loss: 0.0320 - accuracy: 0.9893\n",
            "Epoch 201/300\n",
            "150/150 [==============================] - 0s 2ms/step - loss: 0.0456 - accuracy: 0.9867\n",
            "Epoch 202/300\n",
            "150/150 [==============================] - 0s 3ms/step - loss: 0.0372 - accuracy: 0.9853\n",
            "Epoch 203/300\n",
            "150/150 [==============================] - 0s 3ms/step - loss: 0.0265 - accuracy: 0.9880\n",
            "Epoch 204/300\n",
            "150/150 [==============================] - 0s 3ms/step - loss: 0.0190 - accuracy: 0.9920\n",
            "Epoch 205/300\n",
            "150/150 [==============================] - 0s 3ms/step - loss: 0.0770 - accuracy: 0.9813\n",
            "Epoch 206/300\n",
            "150/150 [==============================] - 1s 4ms/step - loss: 0.0244 - accuracy: 0.9907\n",
            "Epoch 207/300\n",
            "150/150 [==============================] - 0s 3ms/step - loss: 0.0474 - accuracy: 0.9853\n",
            "Epoch 208/300\n",
            "150/150 [==============================] - 1s 4ms/step - loss: 0.0863 - accuracy: 0.9707\n",
            "Epoch 209/300\n",
            "150/150 [==============================] - 0s 3ms/step - loss: 0.0217 - accuracy: 0.9893\n",
            "Epoch 210/300\n",
            "150/150 [==============================] - 0s 2ms/step - loss: 0.0673 - accuracy: 0.9813\n",
            "Epoch 211/300\n",
            "150/150 [==============================] - 0s 2ms/step - loss: 0.0274 - accuracy: 0.9907\n",
            "Epoch 212/300\n",
            "150/150 [==============================] - 0s 2ms/step - loss: 0.0156 - accuracy: 0.9960\n",
            "Epoch 213/300\n",
            "150/150 [==============================] - 0s 2ms/step - loss: 0.0214 - accuracy: 0.9893\n",
            "Epoch 214/300\n",
            "150/150 [==============================] - 0s 2ms/step - loss: 0.0150 - accuracy: 0.9947\n",
            "Epoch 215/300\n",
            "150/150 [==============================] - 0s 2ms/step - loss: 0.0234 - accuracy: 0.9907\n",
            "Epoch 216/300\n",
            "150/150 [==============================] - 0s 2ms/step - loss: 0.0208 - accuracy: 0.9973\n",
            "Epoch 217/300\n",
            "150/150 [==============================] - 0s 2ms/step - loss: 0.0129 - accuracy: 0.9960\n",
            "Epoch 218/300\n",
            "150/150 [==============================] - 0s 2ms/step - loss: 0.0122 - accuracy: 0.9973\n",
            "Epoch 219/300\n",
            "150/150 [==============================] - 0s 2ms/step - loss: 0.0229 - accuracy: 0.9947\n",
            "Epoch 220/300\n",
            "150/150 [==============================] - 0s 2ms/step - loss: 0.0188 - accuracy: 0.9933\n",
            "Epoch 221/300\n",
            "150/150 [==============================] - 0s 2ms/step - loss: 0.0663 - accuracy: 0.9813\n",
            "Epoch 222/300\n",
            "150/150 [==============================] - 0s 2ms/step - loss: 0.0518 - accuracy: 0.9787\n",
            "Epoch 223/300\n",
            "150/150 [==============================] - 0s 2ms/step - loss: 0.0262 - accuracy: 0.9853\n",
            "Epoch 224/300\n",
            "150/150 [==============================] - 0s 2ms/step - loss: 0.0317 - accuracy: 0.9933\n",
            "Epoch 225/300\n",
            "150/150 [==============================] - 0s 2ms/step - loss: 0.0247 - accuracy: 0.9947\n",
            "Epoch 226/300\n",
            "150/150 [==============================] - 0s 2ms/step - loss: 0.0353 - accuracy: 0.9907\n",
            "Epoch 227/300\n",
            "150/150 [==============================] - 0s 2ms/step - loss: 0.0294 - accuracy: 0.9907\n",
            "Epoch 228/300\n",
            "150/150 [==============================] - 0s 2ms/step - loss: 0.0150 - accuracy: 0.9947\n",
            "Epoch 229/300\n",
            "150/150 [==============================] - 0s 2ms/step - loss: 0.0158 - accuracy: 0.9947\n",
            "Epoch 230/300\n",
            "150/150 [==============================] - 0s 2ms/step - loss: 0.0287 - accuracy: 0.9893\n",
            "Epoch 231/300\n",
            "150/150 [==============================] - 0s 2ms/step - loss: 0.0336 - accuracy: 0.9867\n",
            "Epoch 232/300\n",
            "150/150 [==============================] - 0s 2ms/step - loss: 0.0373 - accuracy: 0.9840\n",
            "Epoch 233/300\n",
            "150/150 [==============================] - 0s 2ms/step - loss: 0.0579 - accuracy: 0.9787\n",
            "Epoch 234/300\n",
            "150/150 [==============================] - 0s 2ms/step - loss: 0.0766 - accuracy: 0.9773\n",
            "Epoch 235/300\n",
            "150/150 [==============================] - 0s 2ms/step - loss: 0.0785 - accuracy: 0.9760\n",
            "Epoch 236/300\n",
            "150/150 [==============================] - 0s 2ms/step - loss: 0.0546 - accuracy: 0.9827\n",
            "Epoch 237/300\n",
            "150/150 [==============================] - 0s 2ms/step - loss: 0.0236 - accuracy: 0.9947\n",
            "Epoch 238/300\n",
            "150/150 [==============================] - 0s 2ms/step - loss: 0.0490 - accuracy: 0.9840\n",
            "Epoch 239/300\n",
            "150/150 [==============================] - 0s 3ms/step - loss: 0.0350 - accuracy: 0.9933\n",
            "Epoch 240/300\n",
            "150/150 [==============================] - 0s 3ms/step - loss: 0.0296 - accuracy: 0.9880\n",
            "Epoch 241/300\n",
            "150/150 [==============================] - 1s 3ms/step - loss: 0.0083 - accuracy: 0.9987\n",
            "Epoch 242/300\n",
            "150/150 [==============================] - 1s 3ms/step - loss: 0.0105 - accuracy: 0.9973\n",
            "Epoch 243/300\n",
            "150/150 [==============================] - 1s 4ms/step - loss: 0.0477 - accuracy: 0.9813\n",
            "Epoch 244/300\n",
            "150/150 [==============================] - 0s 3ms/step - loss: 0.0284 - accuracy: 0.9907\n",
            "Epoch 245/300\n",
            "150/150 [==============================] - 1s 4ms/step - loss: 0.0515 - accuracy: 0.9813\n",
            "Epoch 246/300\n",
            "150/150 [==============================] - 0s 3ms/step - loss: 0.0560 - accuracy: 0.9840\n",
            "Epoch 247/300\n",
            "150/150 [==============================] - 0s 2ms/step - loss: 0.0217 - accuracy: 0.9947\n",
            "Epoch 248/300\n",
            "150/150 [==============================] - 0s 2ms/step - loss: 0.0261 - accuracy: 0.9933\n",
            "Epoch 249/300\n",
            "150/150 [==============================] - 0s 2ms/step - loss: 0.0424 - accuracy: 0.9880\n",
            "Epoch 250/300\n",
            "150/150 [==============================] - 0s 2ms/step - loss: 0.0195 - accuracy: 0.9947\n",
            "Epoch 251/300\n",
            "150/150 [==============================] - 0s 2ms/step - loss: 0.0304 - accuracy: 0.9893\n",
            "Epoch 252/300\n",
            "150/150 [==============================] - 0s 2ms/step - loss: 0.0212 - accuracy: 0.9947\n",
            "Epoch 253/300\n",
            "150/150 [==============================] - 0s 2ms/step - loss: 0.0233 - accuracy: 0.9920\n",
            "Epoch 254/300\n",
            "150/150 [==============================] - 0s 2ms/step - loss: 0.0302 - accuracy: 0.9893\n",
            "Epoch 255/300\n",
            "150/150 [==============================] - 0s 2ms/step - loss: 0.0269 - accuracy: 0.9893\n",
            "Epoch 256/300\n",
            "150/150 [==============================] - 0s 2ms/step - loss: 0.0185 - accuracy: 0.9933\n",
            "Epoch 257/300\n",
            "150/150 [==============================] - 0s 2ms/step - loss: 0.0550 - accuracy: 0.9827\n",
            "Epoch 258/300\n",
            "150/150 [==============================] - 0s 2ms/step - loss: 0.0565 - accuracy: 0.9827\n",
            "Epoch 259/300\n",
            "150/150 [==============================] - 0s 2ms/step - loss: 0.0671 - accuracy: 0.9800\n",
            "Epoch 260/300\n",
            "150/150 [==============================] - 0s 2ms/step - loss: 0.0334 - accuracy: 0.9933\n",
            "Epoch 261/300\n",
            "150/150 [==============================] - 0s 2ms/step - loss: 0.0658 - accuracy: 0.9813\n",
            "Epoch 262/300\n",
            "150/150 [==============================] - 0s 2ms/step - loss: 0.0750 - accuracy: 0.9787\n",
            "Epoch 263/300\n",
            "150/150 [==============================] - 0s 2ms/step - loss: 0.0500 - accuracy: 0.9840\n",
            "Epoch 264/300\n",
            "150/150 [==============================] - 0s 2ms/step - loss: 0.0559 - accuracy: 0.9760\n",
            "Epoch 265/300\n",
            "150/150 [==============================] - 0s 2ms/step - loss: 0.1183 - accuracy: 0.9773\n",
            "Epoch 266/300\n",
            "150/150 [==============================] - 0s 2ms/step - loss: 0.0137 - accuracy: 0.9973\n",
            "Epoch 267/300\n",
            "150/150 [==============================] - 0s 2ms/step - loss: 0.0088 - accuracy: 0.9987\n",
            "Epoch 268/300\n",
            "150/150 [==============================] - 0s 2ms/step - loss: 0.0119 - accuracy: 0.9973\n",
            "Epoch 269/300\n",
            "150/150 [==============================] - 0s 2ms/step - loss: 0.0171 - accuracy: 0.9947\n",
            "Epoch 270/300\n",
            "150/150 [==============================] - 0s 2ms/step - loss: 0.0262 - accuracy: 0.9947\n",
            "Epoch 271/300\n",
            "150/150 [==============================] - 0s 2ms/step - loss: 0.0328 - accuracy: 0.9880\n",
            "Epoch 272/300\n",
            "150/150 [==============================] - 0s 2ms/step - loss: 0.0124 - accuracy: 0.9960\n",
            "Epoch 273/300\n",
            "150/150 [==============================] - 0s 2ms/step - loss: 0.0102 - accuracy: 0.9987\n",
            "Epoch 274/300\n",
            "150/150 [==============================] - 0s 2ms/step - loss: 0.0222 - accuracy: 0.9907\n",
            "Epoch 275/300\n",
            "150/150 [==============================] - 0s 2ms/step - loss: 0.0381 - accuracy: 0.9827\n",
            "Epoch 276/300\n",
            "150/150 [==============================] - 0s 3ms/step - loss: 0.0431 - accuracy: 0.9827\n",
            "Epoch 277/300\n",
            "150/150 [==============================] - 1s 4ms/step - loss: 0.0440 - accuracy: 0.9867\n",
            "Epoch 278/300\n",
            "150/150 [==============================] - 1s 3ms/step - loss: 0.0321 - accuracy: 0.9893\n",
            "Epoch 279/300\n",
            "150/150 [==============================] - 1s 4ms/step - loss: 0.0125 - accuracy: 0.9960\n",
            "Epoch 280/300\n",
            "150/150 [==============================] - 1s 3ms/step - loss: 0.0137 - accuracy: 0.9947\n",
            "Epoch 281/300\n",
            "150/150 [==============================] - 1s 4ms/step - loss: 0.0403 - accuracy: 0.9893\n",
            "Epoch 282/300\n",
            "150/150 [==============================] - 1s 3ms/step - loss: 0.0389 - accuracy: 0.9853\n",
            "Epoch 283/300\n",
            "150/150 [==============================] - 1s 4ms/step - loss: 0.0290 - accuracy: 0.9907\n",
            "Epoch 284/300\n",
            "150/150 [==============================] - 0s 2ms/step - loss: 0.0299 - accuracy: 0.9907\n",
            "Epoch 285/300\n",
            "150/150 [==============================] - 0s 2ms/step - loss: 0.0633 - accuracy: 0.9813\n",
            "Epoch 286/300\n",
            "150/150 [==============================] - 0s 2ms/step - loss: 0.0612 - accuracy: 0.9787\n",
            "Epoch 287/300\n",
            "150/150 [==============================] - 0s 2ms/step - loss: 0.0615 - accuracy: 0.9747\n",
            "Epoch 288/300\n",
            "150/150 [==============================] - 0s 2ms/step - loss: 0.0569 - accuracy: 0.9827\n",
            "Epoch 289/300\n",
            "150/150 [==============================] - 0s 2ms/step - loss: 0.0165 - accuracy: 0.9933\n",
            "Epoch 290/300\n",
            "150/150 [==============================] - 0s 2ms/step - loss: 0.0166 - accuracy: 0.9907\n",
            "Epoch 291/300\n",
            "150/150 [==============================] - 0s 2ms/step - loss: 0.0219 - accuracy: 0.9960\n",
            "Epoch 292/300\n",
            "150/150 [==============================] - 0s 2ms/step - loss: 0.0192 - accuracy: 0.9947\n",
            "Epoch 293/300\n",
            "150/150 [==============================] - 0s 2ms/step - loss: 0.0270 - accuracy: 0.9920\n",
            "Epoch 294/300\n",
            "150/150 [==============================] - 0s 2ms/step - loss: 0.0584 - accuracy: 0.9813\n",
            "Epoch 295/300\n",
            "150/150 [==============================] - 0s 2ms/step - loss: 0.0361 - accuracy: 0.9853\n",
            "Epoch 296/300\n",
            "150/150 [==============================] - 0s 2ms/step - loss: 0.0097 - accuracy: 0.9973\n",
            "Epoch 297/300\n",
            "150/150 [==============================] - 0s 2ms/step - loss: 0.0267 - accuracy: 0.9920\n",
            "Epoch 298/300\n",
            "150/150 [==============================] - 0s 2ms/step - loss: 0.0275 - accuracy: 0.9920\n",
            "Epoch 299/300\n",
            "150/150 [==============================] - 0s 2ms/step - loss: 0.0289 - accuracy: 0.9880\n",
            "Epoch 300/300\n",
            "150/150 [==============================] - 0s 2ms/step - loss: 0.0694 - accuracy: 0.9840\n"
          ]
        }
      ]
    },
    {
      "cell_type": "code",
      "source": [
        "import matplotlib.pyplot as plt"
      ],
      "metadata": {
        "id": "22gNYRToZtXx"
      },
      "execution_count": 73,
      "outputs": []
    },
    {
      "cell_type": "code",
      "source": [
        "plt.plot(h.history[\"loss\"])"
      ],
      "metadata": {
        "id": "ihhUoJMRZxh7",
        "outputId": "78668f87-81fa-4b73-8e0f-06378d82b16a",
        "colab": {
          "base_uri": "https://localhost:8080/",
          "height": 447
        }
      },
      "execution_count": 76,
      "outputs": [
        {
          "output_type": "execute_result",
          "data": {
            "text/plain": [
              "[<matplotlib.lines.Line2D at 0x78e7460684c0>]"
            ]
          },
          "metadata": {},
          "execution_count": 76
        },
        {
          "output_type": "display_data",
          "data": {
            "text/plain": [
              "<Figure size 640x480 with 1 Axes>"
            ],
            "image/png": "[encoded data removed]"
          },
          "metadata": {}
        }
      ]
    },
    {
      "cell_type": "code",
      "source": [
        "pred = model.predict(X_test)"
      ],
      "metadata": {
        "id": "gmhCJgVmajds",
        "outputId": "9b596aec-1780-46fa-fbfb-5db3244a6a51",
        "colab": {
          "base_uri": "https://localhost:8080/"
        }
      },
      "execution_count": 77,
      "outputs": [
        {
          "output_type": "stream",
          "name": "stdout",
          "text": [
            "8/8 [==============================] - 0s 4ms/step\n"
          ]
        }
      ]
    },
    {
      "cell_type": "code",
      "source": [
        "import numpy\n",
        "pred = numpy.where(pred>=0.5,1,0)\n",
        "from sklearn.metrics import confusion_matrix\n",
        "cm = confusion_matrix(Y_test,pred)\n",
        "print(cm)\n",
        "print(\"accuracy is \", (cm[0,0]+cm[1,1])/(sum(sum(cm))))"
      ],
      "metadata": {
        "id": "CBhi9t7iasm7",
        "outputId": "147d515b-235e-41a7-dcaf-929cc5581478",
        "colab": {
          "base_uri": "https://localhost:8080/"
        }
      },
      "execution_count": 78,
      "outputs": [
        {
          "output_type": "stream",
          "name": "stdout",
          "text": [
            "[[ 36  32]\n",
            " [ 30 152]]\n",
            "accuracy is  0.752\n"
          ]
        }
      ]
    }
  ]
}